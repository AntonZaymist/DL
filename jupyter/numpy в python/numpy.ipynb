{
 "cells": [
  {
   "cell_type": "code",
   "execution_count": 2,
   "metadata": {},
   "outputs": [],
   "source": [
    "import numpy as np"
   ]
  },
  {
   "cell_type": "code",
   "execution_count": 3,
   "metadata": {},
   "outputs": [
    {
     "name": "stdout",
     "output_type": "stream",
     "text": [
      "[[1]\n",
      " [2]]\n"
     ]
    }
   ],
   "source": [
    "#В общем виде вектор столбец можно задать следующим образом:.\n",
    "v = np.array([[1],[2]])\n",
    "print(v)"
   ]
  },
  {
   "cell_type": "code",
   "execution_count": 4,
   "metadata": {},
   "outputs": [
    {
     "name": "stdout",
     "output_type": "stream",
     "text": [
      "[[1 2 3]\n",
      " [4 5 6]\n",
      " [7 8 9]]\n"
     ]
    }
   ],
   "source": [
    "#В Numpy можно создать квадратную матрицу с помощью метода array():\n",
    "m_sqr_arr = np.array([[1, 2, 3], [4, 5, 6], [7, 8, 9]])\n",
    "print(m_sqr_arr)"
   ]
  },
  {
   "cell_type": "code",
   "execution_count": 5,
   "metadata": {},
   "outputs": [
    {
     "name": "stdout",
     "output_type": "stream",
     "text": [
      "[[1 2 3]\n",
      " [4 5 6]\n",
      " [7 8 9]]\n"
     ]
    }
   ],
   "source": [
    "# В Numpy есть еще одни способ создания матриц - это построение объекта типа\n",
    "# matrix с помощью одноименного метода. Задать матрицу можно в виде списка:\n",
    "m_sqr_mx = np.matrix([[1, 2, 3], [4, 5, 6], [7, 8, 9]])\n",
    "print(m_sqr_arr)"
   ]
  },
  {
   "cell_type": "code",
   "execution_count": 6,
   "metadata": {},
   "outputs": [
    {
     "name": "stdout",
     "output_type": "stream",
     "text": [
      "[[1 2 3]\n",
      " [4 5 6]\n",
      " [7 8 9]]\n"
     ]
    }
   ],
   "source": [
    "# Также доступен стиль Matlab, когда между элементами ставятся пробелы, а строки\n",
    "# разделяются точкой с запятой, при этом такое описание должно быть передано в\n",
    "# виде строки:\n",
    "m_sqr_mx = np.matrix('1 2 3; 4 5 6; 7 8 9')\n",
    "print(m_sqr_arr)"
   ]
  },
  {
   "cell_type": "markdown",
   "metadata": {},
   "source": [
    "______________________\n",
    "Диагональная матрица"
   ]
  },
  {
   "cell_type": "code",
   "execution_count": 7,
   "metadata": {},
   "outputs": [
    {
     "name": "stdout",
     "output_type": "stream",
     "text": [
      "[[1 0 0]\n",
      " [0 5 0]\n",
      " [0 0 9]]\n"
     ]
    }
   ],
   "source": [
    "# Диагональная матрица\n",
    "#Диагональную матрицу можно построить вручную, задав только значения элементам на главной диагонали:\n",
    "m_diag = [[1, 0, 0], [0, 5, 0], [0, 0, 9]]\n",
    "m_diag = np.matrix(m_diag)\n",
    "print(m_diag)"
   ]
  },
  {
   "cell_type": "code",
   "execution_count": 8,
   "metadata": {},
   "outputs": [],
   "source": [
    "m_sqr_mx = np.matrix('1 2 3; 4 5 6; 7 8 9')"
   ]
  },
  {
   "cell_type": "code",
   "execution_count": 9,
   "metadata": {},
   "outputs": [
    {
     "name": "stdout",
     "output_type": "stream",
     "text": [
      "[1 5 9]\n"
     ]
    }
   ],
   "source": [
    "# Извлечем ее главную диагональ:\n",
    "diag = np.diag(m_sqr_mx)\n",
    "print(diag)"
   ]
  },
  {
   "cell_type": "code",
   "execution_count": 10,
   "metadata": {},
   "outputs": [
    {
     "name": "stdout",
     "output_type": "stream",
     "text": [
      "[[1 0 0]\n",
      " [0 5 0]\n",
      " [0 0 9]]\n"
     ]
    }
   ],
   "source": [
    "m_diag_np = np.diag(np.diag(m_sqr_mx))\n",
    "print(m_diag_np)"
   ]
  },
  {
   "cell_type": "markdown",
   "metadata": {},
   "source": [
    "__________________\n",
    "Единичная матрица"
   ]
  },
  {
   "cell_type": "code",
   "execution_count": 11,
   "metadata": {},
   "outputs": [
    {
     "name": "stdout",
     "output_type": "stream",
     "text": [
      "[[1 0 0]\n",
      " [0 1 0]\n",
      " [0 0 1]]\n"
     ]
    }
   ],
   "source": [
    "# Создадим единичную матрицу на базе списка, который передадим в качестве\n",
    "# аргумента функции matrix():\n",
    "m_e = [[1, 0, 0], [0, 1, 0], [0, 0, 1]]\n",
    "m_e_np = np.matrix(m_e)\n",
    "print(m_e_np)"
   ]
  },
  {
   "cell_type": "code",
   "execution_count": 13,
   "metadata": {},
   "outputs": [
    {
     "name": "stdout",
     "output_type": "stream",
     "text": [
      "[[1. 0. 0.]\n",
      " [0. 1. 0.]\n",
      " [0. 0. 1.]]\n"
     ]
    }
   ],
   "source": [
    "#Такой способ не очень удобен, к счастью для нас, для построения такого типа\n",
    "#матриц в библиотеке Numpy есть специальная функция — eye():\n",
    "m_eye = np.eye(3)\n",
    "print(m_eye)"
   ]
  },
  {
   "cell_type": "markdown",
   "metadata": {},
   "source": [
    "_______________\n",
    "Нулевая матрица"
   ]
  },
  {
   "cell_type": "code",
   "execution_count": 14,
   "metadata": {},
   "outputs": [
    {
     "name": "stdout",
     "output_type": "stream",
     "text": [
      "[[0. 0. 0.]\n",
      " [0. 0. 0.]\n",
      " [0. 0. 0.]]\n"
     ]
    }
   ],
   "source": [
    "m_zeros = np.zeros((3, 3))\n",
    "print(m_zeros)"
   ]
  },
  {
   "cell_type": "markdown",
   "metadata": {},
   "source": [
    "_______________________\n",
    "Задание матрицы в общем виде"
   ]
  },
  {
   "cell_type": "code",
   "execution_count": 15,
   "metadata": {},
   "outputs": [
    {
     "name": "stdout",
     "output_type": "stream",
     "text": [
      "[[1 2 3]\n",
      " [4 5 6]]\n"
     ]
    }
   ],
   "source": [
    "# Если у вас уже есть данные о содержимом матрицы, то создать ее можно, используя\n",
    "# списки Python или функцию matrix() из библиотеки Numpy:\n",
    "m_mx = np.matrix('1 2 3; 4 5 6')\n",
    "print(m_mx)"
   ]
  },
  {
   "cell_type": "code",
   "execution_count": 16,
   "metadata": {},
   "outputs": [
    {
     "name": "stdout",
     "output_type": "stream",
     "text": [
      "[[0. 0. 0. 0. 0.]\n",
      " [0. 0. 0. 0. 0.]]\n"
     ]
    }
   ],
   "source": [
    "# Если же вы хотите создать матрицу заданного размера\n",
    "# с произвольным\n",
    "# содержимым, чтобы потом ее заполнить, проще всего для того использовать\n",
    "# функцию zeros(), которая создаст матрицу заданного размера, заполненную нулями:\n",
    "\n",
    "m_var = np.zeros((2,5))\n",
    "print(m_var)"
   ]
  },
  {
   "cell_type": "markdown",
   "metadata": {},
   "source": [
    "______________________\n",
    "Транспонирование матрицы"
   ]
  },
  {
   "cell_type": "code",
   "execution_count": null,
   "metadata": {},
   "outputs": [],
   "source": [
    "# Транспонирование матрицы - это процесс замены строк матрицы на ее столбцы, а\n",
    "# столбцов, соответственно, на строки. Полученная в результате матрица называется\n",
    "# транспонированной. Символ операции транспонирования - буква T\n"
   ]
  },
  {
   "cell_type": "code",
   "execution_count": 17,
   "metadata": {},
   "outputs": [
    {
     "name": "stdout",
     "output_type": "stream",
     "text": [
      "[[1 2 3]\n",
      " [4 5 6]]\n"
     ]
    }
   ],
   "source": [
    "A = np.matrix('1 2 3; 4 5 6')\n",
    "print(A)"
   ]
  },
  {
   "cell_type": "code",
   "execution_count": 18,
   "metadata": {},
   "outputs": [
    {
     "name": "stdout",
     "output_type": "stream",
     "text": [
      "[[1 4]\n",
      " [2 5]\n",
      " [3 6]]\n"
     ]
    }
   ],
   "source": [
    "# Транспонируем матрицу с помощью метода transpose():\n",
    "A_t = A.transpose()\n",
    "print(A_t)"
   ]
  },
  {
   "cell_type": "code",
   "execution_count": 19,
   "metadata": {},
   "outputs": [
    {
     "name": "stdout",
     "output_type": "stream",
     "text": [
      "[[1 4]\n",
      " [2 5]\n",
      " [3 6]]\n"
     ]
    }
   ],
   "source": [
    "# Существует сокращенный вариант получения транспонированной матрицы, он\n",
    "# удобен для практического использования:\n",
    "print(A.T)"
   ]
  },
  {
   "cell_type": "code",
   "execution_count": null,
   "metadata": {},
   "outputs": [],
   "source": [
    "# Свойство 1. Дважды транспонированная матрица равна исходной матрице:\n"
   ]
  },
  {
   "cell_type": "code",
   "execution_count": 20,
   "metadata": {},
   "outputs": [
    {
     "name": "stdout",
     "output_type": "stream",
     "text": [
      "[[1 2 3]\n",
      " [4 5 6]]\n",
      "[[1 2 3]\n",
      " [4 5 6]]\n"
     ]
    }
   ],
   "source": [
    "A = np.matrix('1 2 3; 4 5 6')\n",
    "print(A)\n",
    "R = (A.T).T\n",
    "print(R)"
   ]
  },
  {
   "cell_type": "code",
   "execution_count": null,
   "metadata": {},
   "outputs": [],
   "source": [
    "# Свойство 2. Транспонированная сумма матриц равна сумме транспонированных матриц:"
   ]
  },
  {
   "cell_type": "code",
   "execution_count": 21,
   "metadata": {},
   "outputs": [
    {
     "name": "stdout",
     "output_type": "stream",
     "text": [
      "[[ 8  4]\n",
      " [10 12]\n",
      " [12 11]]\n",
      "[[ 8  4]\n",
      " [10 12]\n",
      " [12 11]]\n"
     ]
    }
   ],
   "source": [
    "A = np.matrix('1 2 3; 4 5 6')\n",
    "B = np.matrix('7 8 9; 0 7 5')\n",
    "L = (A + B).T\n",
    "R = A.T + B.T\n",
    "print(L)\n",
    "print(R)"
   ]
  },
  {
   "cell_type": "code",
   "execution_count": 22,
   "metadata": {},
   "outputs": [
    {
     "name": "stdout",
     "output_type": "stream",
     "text": [
      "[[19 43]\n",
      " [22 50]]\n",
      "[[19 43]\n",
      " [22 50]]\n"
     ]
    }
   ],
   "source": [
    "# Свойство 3. Транспонированное произведение матриц равно произведению\n",
    "# транспонированных матриц, расставленных в обратном порядке:\n",
    "A = np.matrix('1 2; 3 4')\n",
    "B = np.matrix('5 6; 7 8')\n",
    "L = (A.dot(B)).T\n",
    "R = (B.T).dot(A.T)\n",
    "print(L)\n",
    "print(R)"
   ]
  },
  {
   "cell_type": "code",
   "execution_count": 23,
   "metadata": {},
   "outputs": [
    {
     "name": "stdout",
     "output_type": "stream",
     "text": [
      "[[ 3 12]\n",
      " [ 6 15]\n",
      " [ 9 18]]\n",
      "[[ 3 12]\n",
      " [ 6 15]\n",
      " [ 9 18]]\n"
     ]
    }
   ],
   "source": [
    "# Свойство 4. Транспонированное произведение матрицы на число равно произведению этого числа на транспонированную матрицу:\n",
    "A = np.matrix('1 2 3; 4 5 6')\n",
    "k = 3\n",
    "L = (k * A).T\n",
    "R = k * (A.T)\n",
    "print(L)\n",
    "print(R)"
   ]
  },
  {
   "cell_type": "code",
   "execution_count": 25,
   "metadata": {},
   "outputs": [
    {
     "name": "stdout",
     "output_type": "stream",
     "text": [
      "-2\n",
      "-2\n"
     ]
    }
   ],
   "source": [
    "# Свойство 5. Определители исходной и транспонированной матрицы совпадают:\n",
    "A = np.matrix('1 2; 3 4')\n",
    "A_det = np.linalg.det(A)\n",
    "A_T_det = np.linalg.det(A.T)\n",
    "print(format(A_det, '.9g'))\n",
    "print(format(A_T_det, '.9g'))"
   ]
  },
  {
   "cell_type": "markdown",
   "metadata": {},
   "source": [
    "_________________\n",
    "Действия над матрицами\n",
    "_________________\n",
    "Умножение на число"
   ]
  },
  {
   "cell_type": "code",
   "execution_count": 26,
   "metadata": {},
   "outputs": [
    {
     "name": "stdout",
     "output_type": "stream",
     "text": [
      "[[ 3  6  9]\n",
      " [12 15 18]]\n"
     ]
    }
   ],
   "source": [
    "A = np.matrix('1 2 3; 4 5 6')\n",
    "C = 3 * A\n",
    "print(C)"
   ]
  },
  {
   "cell_type": "code",
   "execution_count": 27,
   "metadata": {},
   "outputs": [
    {
     "name": "stdout",
     "output_type": "stream",
     "text": [
      "[[1 2]\n",
      " [3 4]]\n",
      "[[1 2]\n",
      " [3 4]]\n"
     ]
    }
   ],
   "source": [
    "# Свойство 1. Произведение единицы и любой заданной матрицы равно заданной матрице: \n",
    "A = np.matrix('1 2; 3 4')\n",
    "L = 1 * A\n",
    "R = A\n",
    "print(L)\n",
    "print(R)"
   ]
  },
  {
   "cell_type": "code",
   "execution_count": 28,
   "metadata": {},
   "outputs": [
    {
     "name": "stdout",
     "output_type": "stream",
     "text": [
      "[[0 0]\n",
      " [0 0]]\n",
      "[[0 0]\n",
      " [0 0]]\n"
     ]
    }
   ],
   "source": [
    "# Свойство 2. Произведение нуля и любой матрицы равно нулевой матрице,\n",
    "# размерность которой равна исходной матрицы:\n",
    "A = np.matrix('1 2; 3 4')\n",
    "Z = np.matrix('0 0; 0 0')\n",
    "L = 0 * A\n",
    "R = Z\n",
    "print(L)\n",
    "print(R)"
   ]
  },
  {
   "cell_type": "code",
   "execution_count": 29,
   "metadata": {},
   "outputs": [
    {
     "name": "stdout",
     "output_type": "stream",
     "text": [
      "[[ 5 10]\n",
      " [15 20]]\n",
      "[[ 5 10]\n",
      " [15 20]]\n"
     ]
    }
   ],
   "source": [
    "# Свойство 3. Произведение матрицы на сумму чисел равно сумме произведений\n",
    "# матрицы на каждое из этих чисел:\n",
    "A = np.matrix('1 2; 3 4')\n",
    "p = 2\n",
    "q = 3\n",
    "L = (p + q) * A\n",
    "R = p * A + q * A\n",
    "print(L)\n",
    "print(R)"
   ]
  },
  {
   "cell_type": "code",
   "execution_count": 31,
   "metadata": {},
   "outputs": [
    {
     "name": "stdout",
     "output_type": "stream",
     "text": [
      "[[ 6 12]\n",
      " [18 24]]\n",
      "[[ 6 12]\n",
      " [18 24]]\n"
     ]
    }
   ],
   "source": [
    "# Свойство 4. Произведение матрицы на произведение двух чисел равно произведению второго числа и заданной матрицы, умноженному на первое число:\n",
    "A = np.matrix('1 2; 3 4')\n",
    "p = 2 \n",
    "q = 3\n",
    "L = (p * q) * A\n",
    "R = p * (q * A)\n",
    "print(L)\n",
    "print(R)"
   ]
  },
  {
   "cell_type": "code",
   "execution_count": 34,
   "metadata": {},
   "outputs": [
    {
     "name": "stdout",
     "output_type": "stream",
     "text": [
      "[[18 24]\n",
      " [30 36]]\n",
      "[[18 24]\n",
      " [30 36]]\n"
     ]
    }
   ],
   "source": [
    "# Свойство 5. Произведение суммы матриц на число равно сумме произведений этих\n",
    "# матриц на заданное число:\n",
    "A = np.matrix('1 2; 3 4')\n",
    "B = np.matrix('5 6; 7 8')\n",
    "k = 3\n",
    "L = k * (A + B)\n",
    "R = k * A + k * B\n",
    "print(L)\n",
    "print(R)"
   ]
  },
  {
   "cell_type": "markdown",
   "metadata": {},
   "source": [
    "________________________\n",
    "Сложение"
   ]
  },
  {
   "cell_type": "code",
   "execution_count": 35,
   "metadata": {},
   "outputs": [
    {
     "name": "stdout",
     "output_type": "stream",
     "text": [
      "[[ 9  7  8]\n",
      " [14 11 19]]\n"
     ]
    }
   ],
   "source": [
    "# Складывать можно только матрицы одинаковой размерности — то есть матрицы, у\n",
    "# которых совпадает количество столбцов и строк.\n",
    "A = np.matrix('1 6 3; 8 2 7')\n",
    "B = np.matrix('8 1 5; 6 9 12')\n",
    "C = A + B\n",
    "print(C)"
   ]
  },
  {
   "cell_type": "code",
   "execution_count": 36,
   "metadata": {},
   "outputs": [
    {
     "name": "stdout",
     "output_type": "stream",
     "text": [
      "[[ 6  8]\n",
      " [10 12]]\n",
      "[[ 6  8]\n",
      " [10 12]]\n"
     ]
    }
   ],
   "source": [
    "# Свойство 1. Коммутативность сложения. От перестановки матриц их сумма не изменяется:\n",
    "A = np.matrix('1 2; 3 4')\n",
    "B = np.matrix('5 6; 7 8')\n",
    "L = A + B\n",
    "R = B + A\n",
    "print(L)\n",
    "print(R)"
   ]
  },
  {
   "cell_type": "code",
   "execution_count": 37,
   "metadata": {},
   "outputs": [
    {
     "name": "stdout",
     "output_type": "stream",
     "text": [
      "[[ 7 15]\n",
      " [19 15]]\n",
      "[[ 7 15]\n",
      " [19 15]]\n"
     ]
    }
   ],
   "source": [
    "# Свойство 2. Ассоциативность сложения. Результат сложения трех и более матриц\n",
    "# не зависит от порядка, в котором эта операция будет выполняться:\n",
    "A = np.matrix('1 2; 3 4')\n",
    "B = np.matrix('5 6; 7 8')\n",
    "C = np.matrix('1 7; 9 3')\n",
    "L = A + (B + C)\n",
    "R = (A + B) + C\n",
    "print(L)\n",
    "print(R)"
   ]
  },
  {
   "cell_type": "code",
   "execution_count": 38,
   "metadata": {},
   "outputs": [
    {
     "name": "stdout",
     "output_type": "stream",
     "text": [
      "[[0 0]\n",
      " [0 0]]\n",
      "[[0 0]\n",
      " [0 0]]\n"
     ]
    }
   ],
   "source": [
    "# Свойство 3. Для любой матрицы A существует противоположная ей (-A) такая, что их сумма является нулевой матрицей Z\n",
    "A = np.matrix('1 2; 3 4')\n",
    "Z = np.matrix('0 0; 0 0')\n",
    "L = A + (-1)*A\n",
    "print(L)\n",
    "print(Z)"
   ]
  },
  {
   "cell_type": "markdown",
   "metadata": {},
   "source": [
    "_________________________\n",
    "Умножение матриц"
   ]
  },
  {
   "cell_type": "code",
   "execution_count": 39,
   "metadata": {},
   "outputs": [
    {
     "name": "stdout",
     "output_type": "stream",
     "text": [
      "[[31 19]\n",
      " [85 55]]\n"
     ]
    }
   ],
   "source": [
    "# Умножение матриц это уже более сложная операция,по сравнению с\n",
    "# рассмотренными выше. Умножать можно только матрицы, отвечающие следующему\n",
    "# требованию: количество столбцов первой матрицы должно быть равно числу\n",
    "# строк второй матрицы.\n",
    "# Решим задачу умножения матриц на языке Python. Для этого будем использовать\n",
    "# функцию dot() из библиотеки Numpy:\n",
    "A = np.matrix('1 2 3; 4 5 6')\n",
    "B = np.matrix('7 8; 9 1; 2 3')\n",
    "C = A.dot(B)\n",
    "print(C)"
   ]
  },
  {
   "cell_type": "code",
   "execution_count": 41,
   "metadata": {},
   "outputs": [
    {
     "name": "stdout",
     "output_type": "stream",
     "text": [
      "[[192 252]\n",
      " [436 572]]\n",
      "[[192 252]\n",
      " [436 572]]\n"
     ]
    }
   ],
   "source": [
    "# Свойство 1. Ассоциативность умножения. Результат умножения матриц не зависит\n",
    "# от порядка, в котором будет выполняться эта операция:\n",
    "A = np.matrix('1 2; 3 4')\n",
    "B = np.matrix('5 6; 7 8')\n",
    "C = np.matrix('2 4; 7 8')\n",
    "L = A.dot(B.dot(C))\n",
    "R = (A.dot(B)).dot(C)\n",
    "print(L)\n",
    "print(R)"
   ]
  },
  {
   "cell_type": "code",
   "execution_count": 42,
   "metadata": {},
   "outputs": [
    {
     "name": "stdout",
     "output_type": "stream",
     "text": [
      "[[35 42]\n",
      " [77 94]]\n",
      "[[35 42]\n",
      " [77 94]]\n"
     ]
    }
   ],
   "source": [
    "# Свойство 2. Дистрибутивность умножения. Произведение матрицы на сумму\n",
    "# матриц равно сумме произведений матриц:\n",
    "A = np.matrix('1 2; 3 4')\n",
    "B = np.matrix('5 6; 7 8')\n",
    "C = np.matrix('2 4; 7 8')\n",
    "L = A.dot(B + C)\n",
    "R = A.dot(B) + A.dot(C)\n",
    "print(L)\n",
    "print(R)"
   ]
  },
  {
   "cell_type": "code",
   "execution_count": 45,
   "metadata": {},
   "outputs": [
    {
     "name": "stdout",
     "output_type": "stream",
     "text": [
      "[[19 22]\n",
      " [43 50]]\n",
      "[[19 22]\n",
      " [43 50]]\n"
     ]
    }
   ],
   "source": [
    "# Свойство 3. Умножение матриц в общем виде не коммутативно. Это означает, что\n",
    "# для матриц не выполняется правило независимости произведения от перестановки множителей:\n",
    "A = np.matrix('1 2; 3 4')\n",
    "B = np.matrix('5 6; 7 8')\n",
    "L = A.dot(B)\n",
    "R = B.dot(A)\n",
    "print(L)\n",
    "print(L)"
   ]
  },
  {
   "cell_type": "code",
   "execution_count": 46,
   "metadata": {},
   "outputs": [
    {
     "name": "stdout",
     "output_type": "stream",
     "text": [
      "[[1 2]\n",
      " [3 4]]\n",
      "[[1 2]\n",
      " [3 4]]\n",
      "[[1 2]\n",
      " [3 4]]\n"
     ]
    }
   ],
   "source": [
    "# Свойство 4. Произведение заданной матрицы на единичную равно исходной матрице:\n",
    "A = np.matrix('1 2; 3 4')\n",
    "E = np.matrix('1 0; 0 1')\n",
    "L = E.dot(A)\n",
    "R = A.dot(E)\n",
    "print(L)\n",
    "print(R)\n",
    "print(A)"
   ]
  },
  {
   "cell_type": "code",
   "execution_count": 47,
   "metadata": {},
   "outputs": [
    {
     "name": "stdout",
     "output_type": "stream",
     "text": [
      "[[0 0]\n",
      " [0 0]]\n",
      "[[0 0]\n",
      " [0 0]]\n",
      "[[0 0]\n",
      " [0 0]]\n"
     ]
    }
   ],
   "source": [
    "# Свойство 5. Произведение заданной матрицы на нулевую матрицу равно нулевой матрице:\n",
    "A = np.matrix('1 2; 3 4')\n",
    "Z = np.matrix('0 0; 0 0') \n",
    "L = Z.dot(A)\n",
    "R = A.dot(Z)\n",
    "print(L)\n",
    "print(R)\n",
    "print(Z)"
   ]
  },
  {
   "cell_type": "markdown",
   "metadata": {},
   "source": [
    "______________________\n",
    "Определитель матрицы"
   ]
  },
  {
   "cell_type": "code",
   "execution_count": 3,
   "metadata": {},
   "outputs": [
    {
     "name": "stdout",
     "output_type": "stream",
     "text": [
      "[[-4 -1  2]\n",
      " [10  4 -1]\n",
      " [ 8  3  1]]\n"
     ]
    }
   ],
   "source": [
    "# Определитель матрицы размера n x n( -го порядка) является одной из ее численных характеристик. Определитель матрицы A\n",
    "# обозначается как |A| или det(A) его также называют детерминантом.\n",
    "\n",
    "# Минор элемента определителя - это определитель, полученный из данного, путем вычеркивания всех элементов строки и\n",
    "# столбца, на пересечении которых стоит данный элемент.\n",
    "\n",
    "# Введем еще одно понятие - алгебраическое дополнение элемента определителя - это минор этого элемента, взятый со знаком плюс или минус:\n",
    "# В общем виде вычислить определитель матрицы можно через разложение\n",
    "# определителя по элементам строки или столбца. Суть в том, что определитель равен\n",
    "# сумме произведений элементов любой строки или столбца на их алгебраические\n",
    "# дополнения.\n",
    "\n",
    "# На Python определитель посчитать очень просто. Создадим матрицу размера 3x3 из приведенного выше численного примера:\n",
    "\n",
    "A = np.matrix('-4 -1 2; 10 4 -1; 8 3 1')\n",
    "print(A)"
   ]
  },
  {
   "cell_type": "code",
   "execution_count": 4,
   "metadata": {},
   "outputs": [
    {
     "data": {
      "text/plain": [
       "-14.000000000000009"
      ]
     },
     "execution_count": 4,
     "metadata": {},
     "output_type": "execute_result"
    }
   ],
   "source": [
    "# Для вычисления определителя этой матрицы воспользуемся функцией det() из пакета linalg.\n",
    "np.linalg.det(A)"
   ]
  },
  {
   "cell_type": "code",
   "execution_count": 5,
   "metadata": {},
   "outputs": [
    {
     "name": "stdout",
     "output_type": "stream",
     "text": [
      "[[-4 -1  2]\n",
      " [10  4 -1]\n",
      " [ 8  3  1]]\n",
      "[[-4 10  8]\n",
      " [-1  4  3]\n",
      " [ 2 -1  1]]\n",
      "-14.0\n",
      "-14.0\n"
     ]
    }
   ],
   "source": [
    "# Свойство 1. Определитель матрицы остается неизменным при ее транспонировании:\n",
    "A = np.matrix('-4 -1 2; 10 4 -1; 8 3 1')\n",
    "print(A)\n",
    "print(A.T)\n",
    "det_A = round(np.linalg.det(A), 3)\n",
    "det_A_t = round(np.linalg.det(A.T), 3)\n",
    "print(det_A)\n",
    "print(det_A_t)"
   ]
  },
  {
   "cell_type": "code",
   "execution_count": 6,
   "metadata": {},
   "outputs": [
    {
     "name": "stdout",
     "output_type": "stream",
     "text": [
      "[[-4 -1  2]\n",
      " [ 0  0  0]\n",
      " [ 8  3  1]]\n"
     ]
    },
    {
     "data": {
      "text/plain": [
       "0.0"
      ]
     },
     "execution_count": 6,
     "metadata": {},
     "output_type": "execute_result"
    }
   ],
   "source": [
    "# Свойство 2. Если у матрицы есть строка или столбец, состоящие из нулей, то определитель такой матрицы равен нулю:\n",
    "A = np.matrix('-4 -1 2; 0 0 0; 8 3 1')\n",
    "print(A)\n",
    "np.linalg.det(A)"
   ]
  },
  {
   "cell_type": "code",
   "execution_count": 14,
   "metadata": {},
   "outputs": [
    {
     "name": "stdout",
     "output_type": "stream",
     "text": [
      "[[-4 -1  2]\n",
      " [10  4 -1]\n",
      " [ 8  3  1]]\n",
      "[[10  4 -1]\n",
      " [-4 -1  2]\n",
      " [ 8  3  1]]\n"
     ]
    },
    {
     "data": {
      "text/plain": [
       "14.0"
      ]
     },
     "execution_count": 14,
     "metadata": {},
     "output_type": "execute_result"
    }
   ],
   "source": [
    "# Свойство 3. При перестановке строк матрицы знак ее определителя меняется на противоположный:\n",
    "A = np.matrix('-4 -1 2; 10 4 -1; 8 3 1')\n",
    "print(A)\n",
    "B = np.matrix('10 4 -1; -4 -1 2; 8 3 1')\n",
    "print(B)\n",
    "round(np.linalg.det(A), 3)\n",
    "round(np.linalg.det(B), 3)"
   ]
  },
  {
   "cell_type": "code",
   "execution_count": 23,
   "metadata": {},
   "outputs": [
    {
     "data": {
      "text/plain": [
       "-14.0"
      ]
     },
     "execution_count": 23,
     "metadata": {},
     "output_type": "execute_result"
    }
   ],
   "source": [
    "round(np.linalg.det(B), 3)"
   ]
  },
  {
   "cell_type": "code",
   "execution_count": 15,
   "metadata": {},
   "outputs": [
    {
     "name": "stdout",
     "output_type": "stream",
     "text": [
      "[[-4 -1  2]\n",
      " [-4 -1  2]\n",
      " [ 8  3  1]]\n"
     ]
    },
    {
     "data": {
      "text/plain": [
       "0.0"
      ]
     },
     "execution_count": 15,
     "metadata": {},
     "output_type": "execute_result"
    }
   ],
   "source": [
    "# Свойство 4. Если у матрицы есть две одинаковые строки, то ее определитель равен нулю:\n",
    "A = np.matrix('-4 -1 2; -4 -1 2; 8 3 1')\n",
    "print(A)\n",
    "np.linalg.det(A)"
   ]
  },
  {
   "cell_type": "code",
   "execution_count": 16,
   "metadata": {},
   "outputs": [
    {
     "name": "stdout",
     "output_type": "stream",
     "text": [
      "[[-4 -1  2]\n",
      " [10  4 -1]\n",
      " [ 8  3  1]]\n",
      "[[-4 -1  2]\n",
      " [10  4 -1]\n",
      " [16  6  2]]\n"
     ]
    },
    {
     "data": {
      "text/plain": [
       "-28.0"
      ]
     },
     "execution_count": 16,
     "metadata": {},
     "output_type": "execute_result"
    }
   ],
   "source": [
    "# Свойство 5. Если все элементы строки или столбца матрицы умножить на какое-то число, то и определитель будет умножен на это число:\n",
    "A = np.matrix('-4 -1 2; 10 4 -1; 8 3 1')\n",
    "print(A)\n",
    "k = 2\n",
    "B = A.copy()\n",
    "B[2, :] = k * B[2, :]\n",
    "print(B)\n",
    "det_A = round(np.linalg.det(A), 3)\n",
    "det_B = round(np.linalg.det(B), 3)\n",
    "det_A * k\n",
    "det_B"
   ]
  },
  {
   "cell_type": "code",
   "execution_count": 21,
   "metadata": {},
   "outputs": [
    {
     "name": "stdout",
     "output_type": "stream",
     "text": [
      "[[-4 -1  2]\n",
      " [ 4  2  4]\n",
      " [ 8  3  1]]\n",
      "[[-4 -1  2]\n",
      " [-4 -1  2]\n",
      " [ 8  3  1]]\n",
      "[[-4 -1  2]\n",
      " [ 8  3  2]\n",
      " [ 8  3  1]]\n"
     ]
    },
    {
     "data": {
      "text/plain": [
       "4.0"
      ]
     },
     "execution_count": 21,
     "metadata": {},
     "output_type": "execute_result"
    }
   ],
   "source": [
    "# Свойство 6. Если все элементы строки или столбца можно представить как сумму \n",
    "# двух слагаемых, то определитель такой матрицы равен сумме определителей двух\n",
    "# соответствующих матриц:\n",
    "A = np.matrix('-4 -1 2; -4 -1 2; 8 3 1')\n",
    "B = np.matrix('-4 -1 2; 8 3 2; 8 3 1')\n",
    "C = A.copy()\n",
    "C[1, :] += B[1, :]\n",
    "print(C)\n",
    "print(A)\n",
    "print(B)\n",
    "round(np.linalg.det(C), 3)\n",
    "round(np.linalg.det(A), 3) + round(np.linalg.det(B), 3)"
   ]
  },
  {
   "cell_type": "code",
   "execution_count": 22,
   "metadata": {},
   "outputs": [
    {
     "name": "stdout",
     "output_type": "stream",
     "text": [
      "[[-4 -1  2]\n",
      " [10  4 -1]\n",
      " [ 8  3  1]]\n",
      "[[-4 -1  2]\n",
      " [ 2  2  3]\n",
      " [ 8  3  1]]\n"
     ]
    },
    {
     "data": {
      "text/plain": [
       "-14.0"
      ]
     },
     "execution_count": 22,
     "metadata": {},
     "output_type": "execute_result"
    }
   ],
   "source": [
    "# Свойство 7. Если к элементам одной строки прибавить элементы другой строки\n",
    "# умноженные на одно и тоже число, то определитель матрицы не изменится:\n",
    "A = np.matrix('-4 -1 2; 10 4 -1; 8 3 1')\n",
    "k = 2\n",
    "B = A.copy()\n",
    "B[1, :] = B[1, :] + k * B[0, :]\n",
    "print(A)\n",
    "print(B)\n",
    "round(np.linalg.det(A), 3)\n",
    "round(np.linalg.det(B), 3)"
   ]
  },
  {
   "cell_type": "code",
   "execution_count": 27,
   "metadata": {},
   "outputs": [
    {
     "name": "stdout",
     "output_type": "stream",
     "text": [
      "[[-4 -1  2]\n",
      " [10  4 -1]\n",
      " [ 8  3  1]]\n"
     ]
    },
    {
     "data": {
      "text/plain": [
       "0.0"
      ]
     },
     "execution_count": 27,
     "metadata": {},
     "output_type": "execute_result"
    }
   ],
   "source": [
    "# Свойство 8. Если строка или столбец матрицы является линейной комбинацией\n",
    "# других строк (столбцов), то определитель такой матрицы равен нулю:\n",
    "A = np.matrix('-4 -1 2; 10 4 -1; 8 3 1')\n",
    "print(A)\n",
    "k = 2\n",
    "A[1, :] = A[0, :] + k * A[2, :]\n",
    "round(np.linalg.det(A), 3)"
   ]
  },
  {
   "cell_type": "code",
   "execution_count": 28,
   "metadata": {},
   "outputs": [
    {
     "name": "stdout",
     "output_type": "stream",
     "text": [
      "[[-4 -1  2]\n",
      " [10  4 -1]\n",
      " [ 8  3  1]]\n",
      "[[-4 -1  2]\n",
      " [-8 -2  4]\n",
      " [ 8  3  1]]\n"
     ]
    },
    {
     "data": {
      "text/plain": [
       "0.0"
      ]
     },
     "execution_count": 28,
     "metadata": {},
     "output_type": "execute_result"
    }
   ],
   "source": [
    "# Свойство 9. Если матрица содержит пропорциональные строки, то ее определитель равен нулю:\n",
    "A = np.matrix('-4 -1 2; 10 4 -1; 8 3 1')\n",
    "print(A)\n",
    "k = 2\n",
    "A[1, :] = k * A[0, :]\n",
    "print(A)\n",
    "round(np.linalg.det(A), 3)"
   ]
  },
  {
   "cell_type": "markdown",
   "metadata": {},
   "source": [
    "_________________________\n",
    "Обратная матрица"
   ]
  },
  {
   "cell_type": "code",
   "execution_count": 30,
   "metadata": {},
   "outputs": [
    {
     "name": "stdout",
     "output_type": "stream",
     "text": [
      "[[ 0.45454545  0.27272727]\n",
      " [-0.18181818  0.09090909]]\n"
     ]
    }
   ],
   "source": [
    "# Введем понятие союзной матрицы. Союзная матрица A* строится на базе\n",
    "# исходной A путем замены всех элементов матрицы A на их алгебраические\n",
    "# дополнения.\n",
    "\n",
    "# Решим задачу определения обратной матрицы на Python. Для получения обратной\n",
    "# матрицы будем использовать функцию inv():\n",
    "A = np.matrix('1 -3; 2 5')\n",
    "A_inv = np.linalg.inv(A)\n",
    "print(A_inv)"
   ]
  },
  {
   "cell_type": "code",
   "execution_count": 31,
   "metadata": {},
   "outputs": [
    {
     "name": "stdout",
     "output_type": "stream",
     "text": [
      "[[ 1. -3.]\n",
      " [ 2.  5.]]\n",
      "[[ 1. -3.]\n",
      " [ 2.  5.]]\n"
     ]
    }
   ],
   "source": [
    "# Свойство 1. Обратная матрица обратной матрицы есть исходная матрица:\n",
    "A = np.matrix('1. -3.; 2. 5.')\n",
    "A_inv = np.linalg.inv(A)\n",
    "A_inv_inv = np.linalg.inv(A_inv)\n",
    "print(A)\n",
    "print(A_inv_inv)"
   ]
  },
  {
   "cell_type": "code",
   "execution_count": 32,
   "metadata": {},
   "outputs": [
    {
     "name": "stdout",
     "output_type": "stream",
     "text": [
      "[[ 0.45454545 -0.18181818]\n",
      " [ 0.27272727  0.09090909]]\n",
      "[[ 0.45454545 -0.18181818]\n",
      " [ 0.27272727  0.09090909]]\n"
     ]
    }
   ],
   "source": [
    "# Свойство 2. Обратная матрица транспонированной матрицы равна\n",
    "# транспонированной матрице от обратной матрицы:\n",
    "A = np.matrix('1. -3; 2. 5.')\n",
    "L = np.linalg.inv(A.T)\n",
    "R = (np.linalg.inv(A)).T\n",
    "print(L)\n",
    "print(R)"
   ]
  },
  {
   "cell_type": "code",
   "execution_count": 33,
   "metadata": {},
   "outputs": [
    {
     "name": "stdout",
     "output_type": "stream",
     "text": [
      "[[ 0.09454545  0.03272727]\n",
      " [-0.03454545  0.00727273]]\n",
      "[[ 0.09454545  0.03272727]\n",
      " [-0.03454545  0.00727273]]\n"
     ]
    }
   ],
   "source": [
    "# Свойство 3. Обратная матрица произведения матриц равна произведению обратных матриц:\n",
    "A = np.matrix('1. -3.; 2. 5.')\n",
    "B = np.matrix('7. 6.; 1. 8.')\n",
    "L = np.linalg.inv(A.dot(B))\n",
    "R = np.linalg.inv(B).dot(np.linalg.inv(A))\n",
    "print(L)\n",
    "print(R)"
   ]
  },
  {
   "cell_type": "markdown",
   "metadata": {},
   "source": [
    "________________________________\n",
    "Ранг матрицы"
   ]
  },
  {
   "cell_type": "code",
   "execution_count": null,
   "metadata": {},
   "outputs": [],
   "source": [
    "# Ранг матрицы является еще одной важной численной характеристикой. Рангом называют максимальное число линейно независимых строк (столбцов) матрицы.\n",
    "# Линейная независимость означает, что строки (столбцы) не могут быть линейно выражены через другие строки (столбцы). Ранг матрицы можно найти через ее\n",
    "# миноры, он равен наибольшему порядку минора, который не равен нулю. Существование ранга у матрицы не зависит от того квадратная она или нет."
   ]
  },
  {
   "cell_type": "code",
   "execution_count": 34,
   "metadata": {},
   "outputs": [
    {
     "name": "stdout",
     "output_type": "stream",
     "text": [
      "[[1. 0. 0. 0.]\n",
      " [0. 1. 0. 0.]\n",
      " [0. 0. 1. 0.]\n",
      " [0. 0. 0. 1.]]\n"
     ]
    }
   ],
   "source": [
    "# Вычислим ранг матрицы с помощью Python. Создадим единичную матрицу:\n",
    "m_eye = np.eye(4)\n",
    "print(m_eye)"
   ]
  },
  {
   "cell_type": "code",
   "execution_count": 35,
   "metadata": {},
   "outputs": [
    {
     "name": "stdout",
     "output_type": "stream",
     "text": [
      "4\n"
     ]
    }
   ],
   "source": [
    "# Ранг такой матрицы равен количеству ее столбцов (или строк), в нашем случае ранг\n",
    "# будет равен четырем, для его вычисления на Python воспользуемся функцией matrix_rank():\n",
    "rank = np.linalg.matrix_rank(m_eye)\n",
    "print(rank)"
   ]
  },
  {
   "cell_type": "code",
   "execution_count": 36,
   "metadata": {},
   "outputs": [
    {
     "name": "stdout",
     "output_type": "stream",
     "text": [
      "[[1. 0. 0. 0.]\n",
      " [0. 1. 0. 0.]\n",
      " [0. 0. 1. 0.]\n",
      " [0. 0. 0. 0.]]\n",
      "3\n"
     ]
    }
   ],
   "source": [
    "# Если мы приравняем элемент в нижнем правом углу к нулю, то ранг станет равен трем:\n",
    "m_eye[3][3] = 0 \n",
    "print(m_eye)\n",
    "rank = np.linalg.matrix_rank(m_eye)\n",
    "print(rank)"
   ]
  },
  {
   "cell_type": "markdown",
   "metadata": {},
   "source": [
    "_______________________________\n",
    "_______________________________\n",
    "Решение систем линейных уравнений"
   ]
  },
  {
   "cell_type": "markdown",
   "metadata": {},
   "source": [
    "________________________\n",
    "Решение неоднородной системы в матричной форме"
   ]
  },
  {
   "cell_type": "code",
   "execution_count": 38,
   "metadata": {},
   "outputs": [
    {
     "name": "stdout",
     "output_type": "stream",
     "text": [
      "[[ 3 -1  2]\n",
      " [ 1  4 -1]\n",
      " [ 2  3  1]]\n",
      "[[-4]\n",
      " [10]\n",
      " [ 8]]\n",
      "[[ 0.5         0.5        -0.5       ]\n",
      " [-0.21428571 -0.07142857  0.35714286]\n",
      " [-0.35714286 -0.78571429  0.92857143]]\n",
      "[[-1.]\n",
      " [ 3.]\n",
      " [ 1.]]\n"
     ]
    }
   ],
   "source": [
    "A = np.matrix('3 -1 2; 1 4 -1; 2 3 1')\n",
    "B = np.matrix('-4; 10; 8')\n",
    "print(A)\n",
    "print(B)\n",
    "A_inv = np.linalg.inv(A)\n",
    "print(A_inv)\n",
    "X = A_inv.dot(B)\n",
    "print(X)"
   ]
  },
  {
   "cell_type": "markdown",
   "metadata": {},
   "source": [
    "_______________________________\n",
    "Метод Крамера"
   ]
  },
  {
   "cell_type": "code",
   "execution_count": 39,
   "metadata": {},
   "outputs": [
    {
     "name": "stdout",
     "output_type": "stream",
     "text": [
      "[[ 3 -1  2]\n",
      " [ 1  4 -1]\n",
      " [ 2  3  1]]\n",
      "[[-4]\n",
      " [10]\n",
      " [ 8]]\n",
      "13.999999999999996\n",
      "[[-4 -1  2]\n",
      " [10  4 -1]\n",
      " [ 8  3  1]]\n",
      "[[ 3 -4  2]\n",
      " [ 1 10 -1]\n",
      " [ 2  8  1]]\n",
      "[[ 3 -1 -4]\n",
      " [ 1  4 10]\n",
      " [ 2  3  8]]\n",
      "-1.0000000000000009\n",
      "3.0000000000000013\n",
      "0.9999999999999997\n"
     ]
    }
   ],
   "source": [
    "# Метод Крамера можно использовать для решения неоднородных систем линейных\n",
    "# уравнений, при этом определитель главной матрицы системы должен быть\n",
    "# отличен от нуля. Полученное данным методом решение будет единственным.\n",
    "A = np.matrix('3 -1 2; 1 4 -1; 2 3 1')\n",
    "print(A)\n",
    "B = np.matrix('-4; 10; 8')\n",
    "print(B)\n",
    "A_det = np.linalg.det(A)\n",
    "print(A_det)\n",
    "X_m = np.matrix(A)\n",
    "X_m[:, 0] = B\n",
    "print(X_m)\n",
    "Y_m = np.matrix(A)\n",
    "Y_m[:, 1] = B\n",
    "print(Y_m)\n",
    "Z_m = np.matrix(A)\n",
    "Z_m[:, 2] = B\n",
    "print(Z_m)\n",
    "x = np.linalg.det(X_m) / A_det\n",
    "y = np.linalg.det(Y_m) / A_det\n",
    "z = np.linalg.det(Z_m) / A_det\n",
    "print(x)\n",
    "print(y)\n",
    "print(z)"
   ]
  },
  {
   "cell_type": "markdown",
   "metadata": {},
   "source": [
    "___________________________________\n",
    "Метод Гаусса"
   ]
  },
  {
   "cell_type": "markdown",
   "metadata": {},
   "source": [
    "_________________________________\n",
    "Решение системы линейных уравнений на Python"
   ]
  },
  {
   "cell_type": "code",
   "execution_count": 40,
   "metadata": {},
   "outputs": [
    {
     "name": "stdout",
     "output_type": "stream",
     "text": [
      "[[ 3 -1  2]\n",
      " [ 1  4 -1]\n",
      " [ 2  3  1]]\n",
      "[[-4]\n",
      " [10]\n",
      " [ 8]]\n",
      "[[-1.]\n",
      " [ 3.]\n",
      " [ 1.]]\n"
     ]
    }
   ],
   "source": [
    "A = np.matrix('3 -1 2; 1 4 -1; 2 3 1')\n",
    "B = np.matrix('-4; 10; 8')\n",
    "print(A)\n",
    "print(B)\n",
    "X = np.linalg.solve(A, B)\n",
    "print(X)"
   ]
  },
  {
   "cell_type": "markdown",
   "metadata": {},
   "source": [
    "_______________________________\n",
    "Глава 3. Основы векторной алгебры\n",
    "_________________________________"
   ]
  },
  {
   "cell_type": "markdown",
   "metadata": {},
   "source": [
    "Векторные и скалярные величины"
   ]
  },
  {
   "cell_type": "code",
   "execution_count": null,
   "metadata": {},
   "outputs": [],
   "source": [
    "# В рамках геометрической интерпретации под вектором понимается\n",
    "# направленный отрезок прямой, характеризуемый длиной и направлением.\n",
    "# Если вектор рассматривать как алгебраический объект, то он может\n",
    "# быть представлен в виде строки или столбца чисел, то есть в виде матрицы размера\n",
    "# (1, n) либо (n, 1)2. Связь между геометрическим и алгебраическим представлением\n",
    "# более подробно раскрыта в разделе 3.3 “Координаты вектора”.\n",
    "\n",
    "# В физике и технических дисциплинах (механика, электротехника и т.п.) различают\n",
    "# скалярные и векторные величины. Скалярной называется величина, которая\n",
    "# характеризуется только числовым значением. Векторной называется\n",
    "# величина, которая характеризуется числовым значением и направлением\n",
    "\n",
    "# Вектор будем обозначать одной маленькой латинской буквой полужирного\n",
    "# начертания, вот так: a , либо двумя большими латинскими буквами, первая\n",
    "# обозначает точку начала, вторая - конц вектора: AB.\n",
    "\n",
    "# Длина вектора (эту величину еще называют модуль вектора) изображается так |a|"
   ]
  },
  {
   "cell_type": "code",
   "execution_count": 41,
   "metadata": {},
   "outputs": [
    {
     "name": "stdout",
     "output_type": "stream",
     "text": [
      "[1 2 3]\n",
      "[3 5 2]\n",
      "[ 2  3 -1]\n"
     ]
    }
   ],
   "source": [
    "# 1.Проекция вектора на ось\n",
    "# Проекция вектора на ось равна произведению модуля вектора на косинус угла между вектором и осью.\n",
    "\n",
    "# 2.Координаты вектора\n",
    "# Координатами вектора называют его проекции на оси координат\n",
    "A = np.array([1,2,3])\n",
    "print(A)\n",
    "B = np.array([3,5,2])\n",
    "print(B)\n",
    "AB = B - A\n",
    "print(AB)"
   ]
  },
  {
   "cell_type": "markdown",
   "metadata": {},
   "source": [
    "_________________________\n",
    "Модуль вектора и его направление в пространстве"
   ]
  },
  {
   "cell_type": "code",
   "execution_count": 43,
   "metadata": {},
   "outputs": [
    {
     "name": "stdout",
     "output_type": "stream",
     "text": [
      "9.433981132056603\n"
     ]
    },
    {
     "data": {
      "text/plain": [
       "0.6359987280038161"
      ]
     },
     "execution_count": 43,
     "metadata": {},
     "output_type": "execute_result"
    }
   ],
   "source": [
    "# Модулем вектора называется величина, равная квадратному корню из суммы квадратов его координат:\n",
    "# Направление вектора определяется косинусами углов между вектором и осями\n",
    "# координат:\n",
    "# α - угол между вектором и осью .\n",
    "# β - угол между вектором и осью .\n",
    "# γ - угол между вектором и осью .\n",
    "\n",
    "AB = np.array([6,7,2])\n",
    "module_AB = np.linalg.norm(AB)\n",
    "print(module_AB)\n",
    "\n",
    "# функции для вычисления косинусов:\n",
    "cos_x = lambda a: a[0] / np.linalg.norm(a)\n",
    "cos_y = lambda a: a[1] / np.linalg.norm(a)\n",
    "cos_z = lambda a: a[2] / np.linalg.norm(a)\n",
    "cos_x(AB)"
   ]
  },
  {
   "cell_type": "code",
   "execution_count": 44,
   "metadata": {},
   "outputs": [
    {
     "data": {
      "text/plain": [
       "0.741998516004452"
      ]
     },
     "execution_count": 44,
     "metadata": {},
     "output_type": "execute_result"
    }
   ],
   "source": [
    "cos_y(AB)"
   ]
  },
  {
   "cell_type": "code",
   "execution_count": 45,
   "metadata": {},
   "outputs": [
    {
     "data": {
      "text/plain": [
       "0.211999576001272"
      ]
     },
     "execution_count": 45,
     "metadata": {},
     "output_type": "execute_result"
    }
   ],
   "source": [
    "cos_z(AB)"
   ]
  },
  {
   "cell_type": "code",
   "execution_count": 46,
   "metadata": {},
   "outputs": [
    {
     "data": {
      "text/plain": [
       "[0.6359987280038161, 0.741998516004452, 0.211999576001272]"
      ]
     },
     "execution_count": 46,
     "metadata": {},
     "output_type": "execute_result"
    }
   ],
   "source": [
    "# Для того, чтобы получить значения косинусов в виде списка составим следующую функцию:\n",
    "vect_cos = lambda a: [a[i] / np.linalg.norm(a) for i in range(len(a))]\n",
    "vect_cos(AB)"
   ]
  },
  {
   "cell_type": "markdown",
   "metadata": {},
   "source": [
    "________________________________\n",
    "Операции над векторами"
   ]
  },
  {
   "cell_type": "markdown",
   "metadata": {},
   "source": [
    "Сложение векторов"
   ]
  },
  {
   "cell_type": "code",
   "execution_count": 47,
   "metadata": {},
   "outputs": [
    {
     "name": "stdout",
     "output_type": "stream",
     "text": [
      "[3 4]\n"
     ]
    }
   ],
   "source": [
    "# Геометрическое представление векторов прекрасно подходит для иллюстрации правила параллелограмма для сложения векторов\n",
    "# Суть в том, что от конца первого вектора откладывается второй, а от конца второго -\n",
    "# первый, в полученном на этих векторах параллелограмме проводится диагональ,\n",
    "# которая и будет является результирующим вектором. Это правило можно упростить:\n",
    "# достаточно отложить от конца первого вектора второй и соединить начало первого и\n",
    "# конец второго, такой подход называется правилом треугольника\n",
    "a = np.array([2,1])\n",
    "b = np.array([1,3])\n",
    "c = a + b\n",
    "print(c)"
   ]
  },
  {
   "cell_type": "markdown",
   "metadata": {},
   "source": [
    "______________\n",
    "Вычитание векторов"
   ]
  },
  {
   "cell_type": "code",
   "execution_count": 48,
   "metadata": {},
   "outputs": [
    {
     "name": "stdout",
     "output_type": "stream",
     "text": [
      "[-1  2]\n"
     ]
    }
   ],
   "source": [
    "a = np.array([2,1])\n",
    "b = np.array([1,3])\n",
    "c = b - a\n",
    "print(c)"
   ]
  },
  {
   "cell_type": "markdown",
   "metadata": {},
   "source": [
    "________________________\n",
    "Умножение вектора на число"
   ]
  },
  {
   "cell_type": "code",
   "execution_count": 49,
   "metadata": {},
   "outputs": [
    {
     "name": "stdout",
     "output_type": "stream",
     "text": [
      "[4 2]\n"
     ]
    }
   ],
   "source": [
    "a = np.array([2, 1])\n",
    "k = 2\n",
    "c = k * a\n",
    "print(c)"
   ]
  },
  {
   "cell_type": "markdown",
   "metadata": {},
   "source": [
    "_________________________\n",
    "Скалярное произведение двух векторов"
   ]
  },
  {
   "cell_type": "code",
   "execution_count": 51,
   "metadata": {},
   "outputs": [
    {
     "data": {
      "text/plain": [
       "82"
      ]
     },
     "execution_count": 51,
     "metadata": {},
     "output_type": "execute_result"
    }
   ],
   "source": [
    "# Скалярным произведением двух векторов a и b называется число, равное\n",
    "# произведению модулей этих векторов на косинус угла между ними:\n",
    "\n",
    "# Если транспонировать один из векторов, то скалярное произведение можно\n",
    "# выразить через операцию умножения матриц:\n",
    "a = np.array([2, 7, 3])\n",
    "b = np.array([5, 9, 3])\n",
    "ab_scal = a.dot(b.T)\n",
    "ab_scal"
   ]
  },
  {
   "cell_type": "markdown",
   "metadata": {},
   "source": [
    "_________________________\n",
    "Векторное произведение двух векторов"
   ]
  },
  {
   "cell_type": "code",
   "execution_count": 52,
   "metadata": {},
   "outputs": [
    {
     "data": {
      "text/plain": [
       "20.149441679609886"
      ]
     },
     "execution_count": 52,
     "metadata": {},
     "output_type": "execute_result"
    }
   ],
   "source": [
    "# Векторным произведение двух векторов и называется третий вектор , который удовлетворяет следующим условиям:\n",
    "# 1. Вектор c перпендикулярен векторам a и b\n",
    "# 2. Модуль вектора c определяется по формуле: |c| = |a * b|=|a|*|b|*sin(&)\n",
    "# 3. Вектора a,b и c образуют правую тройку векторов.\n",
    "a = np.array([2, 7, 3])\n",
    "b = np.array([5, 9, 3])\n",
    "# Найдем косинус угла между векторами. Это можно сделать двумя способами: - предварительно реализовав соответствующую формулу: \n",
    "vect_cos = lambda a, b: a.T.dot(b) / (np.linalg.norm(a) * np.linalg.norm(b))\n",
    "# - воспользоваться уже готовой формулой из scipy, которая вычисляет косинусное расстояние:\n",
    "# vect_cos(a, b)\n",
    "vect_sin = lambda a, b: (1 - vect_cos(a, b)**2)**0.5\n",
    "vect_sin(a, b)\n",
    "prod_vect = lambda a, b: np.linalg.norm(a)*np.linalg.norm(b)*vect_sin(a, b)\n",
    "prod_vect(a, b)"
   ]
  },
  {
   "cell_type": "markdown",
   "metadata": {},
   "source": [
    "________________________\n",
    "Смешанное произведение трех векторов"
   ]
  },
  {
   "cell_type": "code",
   "execution_count": 53,
   "metadata": {},
   "outputs": [
    {
     "data": {
      "text/plain": [
       "-90.99999999999997"
      ]
     },
     "execution_count": 53,
     "metadata": {},
     "output_type": "execute_result"
    }
   ],
   "source": [
    "# Смешанное произведение трех векторов (его еще называют векторно-скалярным)\n",
    "# определяется так: два вектора умножаются векторно, после этого, полученное\n",
    "# произведение необходимо умножить на третий вектор скалярно.\n",
    "a = [2, 7, 3]\n",
    "b = [5, 9, 3]\n",
    "c = [7, 4, 5]\n",
    "vmp = np.matrix([a, b, c])\n",
    "np.linalg.det(vmp)"
   ]
  },
  {
   "cell_type": "markdown",
   "metadata": {},
   "source": [
    "______________\n",
    "Глава 4. Линейные векторные пространства\n",
    "_______________\n",
    "Общие сведения"
   ]
  },
  {
   "cell_type": "code",
   "execution_count": null,
   "metadata": {},
   "outputs": [],
   "source": [
    "# Введем понятие линейного пространства. Рассмотрим такое множество X, на\n",
    "# котором определена операция сложения элементов из этого множества и умножение\n",
    "# элемента множества X на некоторое число. Здесь и далее под числом будем\n",
    "# понимать число из множества действительных чисел R. При этом элемент,\n",
    "# полученный в результате указанного выше сложения или умножения на число, также\n",
    "# принадлежит множеству X.\n",
    "\n",
    "# Если множество X обладает ниже перечисленными свойствами (их называют\n",
    "# аксиомами линейного пространства), то такое множество называется линейным\n",
    "# пространством. Если элементами такого линейного пространства являются\n",
    "# векторы, то такое пространство называется линейным векторным пространством.\n",
    "# В рамках данной главы под вектором будем понимать строку или столбце чисел."
   ]
  },
  {
   "cell_type": "code",
   "execution_count": 2,
   "metadata": {},
   "outputs": [
    {
     "name": "stdout",
     "output_type": "stream",
     "text": [
      "[4 6]\n",
      "[4 6]\n"
     ]
    }
   ],
   "source": [
    "# Свойство 1. Сложение элементов линейного пространства коммутативно. От перестановки слагаемых сумма не изменяется:\n",
    "a = np.array([1,2]).T\n",
    "b = np.array([3,4]).T\n",
    "L = a + b\n",
    "R = b + a\n",
    "print(L)\n",
    "print(R)"
   ]
  },
  {
   "cell_type": "code",
   "execution_count": 3,
   "metadata": {},
   "outputs": [
    {
     "name": "stdout",
     "output_type": "stream",
     "text": [
      "[[ 9]\n",
      " [12]]\n",
      "[[ 9]\n",
      " [12]]\n"
     ]
    }
   ],
   "source": [
    "# Свойство 2. Сложение элементов линейного пространства ассоциативно. Результат\n",
    "# суммирования ряда элементов не зависит от порядка суммирования:\n",
    "a = np.array([[1,2]]).T\n",
    "b = np.array([[3,4]]).T\n",
    "c = np.array([[5,6]]).T\n",
    "L = a +(b + c)\n",
    "R = (a + b)+ c\n",
    "print(L)\n",
    "print(R)"
   ]
  },
  {
   "cell_type": "code",
   "execution_count": 4,
   "metadata": {},
   "outputs": [
    {
     "name": "stdout",
     "output_type": "stream",
     "text": [
      "[[1]\n",
      " [2]]\n",
      "[[1]\n",
      " [2]]\n"
     ]
    }
   ],
   "source": [
    "# Свойство 3. Множество X содержит нулевой элемент, для которого справедливо следующее:\n",
    "a = np.array([[1,2]]).T\n",
    "z = np.array([[0,0]]).T\n",
    "L = a + z\n",
    "R = a\n",
    "print(L)\n",
    "print(R)"
   ]
  },
  {
   "cell_type": "code",
   "execution_count": null,
   "metadata": {},
   "outputs": [],
   "source": [
    "# Свойство 4. В множестве X для любого элемента существует обратный ему\n",
    "# элемент: если a - это элемент множества X , то (-a) - является обратным элементом\n",
    "# для a, и он также содержится в множестве X.\n"
   ]
  },
  {
   "cell_type": "code",
   "execution_count": 6,
   "metadata": {},
   "outputs": [
    {
     "name": "stdout",
     "output_type": "stream",
     "text": [
      "[[0]\n",
      " [0]]\n",
      "[[0]\n",
      " [0]]\n"
     ]
    }
   ],
   "source": [
    "a = np.array([[1,2]]).T\n",
    "m_a = np.array([[-1,-2]]).T\n",
    "z = np.array([[0,0]]).T\n",
    "L = a + m_a\n",
    "R = z\n",
    "print(L)\n",
    "print(R)"
   ]
  },
  {
   "cell_type": "code",
   "execution_count": 7,
   "metadata": {},
   "outputs": [
    {
     "name": "stdout",
     "output_type": "stream",
     "text": [
      "[[ 8]\n",
      " [12]]\n",
      "[[ 8]\n",
      " [12]]\n"
     ]
    }
   ],
   "source": [
    "# Свойство 5. Произведение суммы элементов из множества X на число равно сумме\n",
    "# произведений этого числа на данные элементы:\n",
    "a = np.array([[1, 2]]).T\n",
    "b = np.array([[3, 4]]).T\n",
    "k = 2\n",
    "L = k * (a + b)\n",
    "R = k * a + k * b\n",
    "print(L)\n",
    "print(R)"
   ]
  },
  {
   "cell_type": "code",
   "execution_count": 9,
   "metadata": {},
   "outputs": [
    {
     "name": "stdout",
     "output_type": "stream",
     "text": [
      "[[ 5]\n",
      " [10]]\n",
      "[[ 5]\n",
      " [10]]\n"
     ]
    }
   ],
   "source": [
    "# Свойство 6. Произведение суммы чисел на элемент множества X равно сумме\n",
    "# произведений элемента на заданные числа:\n",
    "a = np.array([[1,2]]).T\n",
    "p = 2\n",
    "q = 3 \n",
    "L = (p+q)*a\n",
    "R = p*a+q*a\n",
    "print(L)\n",
    "print(R)"
   ]
  },
  {
   "cell_type": "code",
   "execution_count": 11,
   "metadata": {},
   "outputs": [
    {
     "name": "stdout",
     "output_type": "stream",
     "text": [
      "[[ 6]\n",
      " [12]]\n",
      "[[ 6]\n",
      " [12]]\n"
     ]
    }
   ],
   "source": [
    "# Свойство 7. Произведение чисел, умноженное на элемент из множества , равно\n",
    "# произведению одного из чисел и элемента, умноженного на другое число:\n",
    "a = np.array([[1,2]]).T\n",
    "p = 2\n",
    "q = 3\n",
    "L = (p*q)*a\n",
    "R = p*(q*a)\n",
    "print(L)\n",
    "print(R)"
   ]
  },
  {
   "cell_type": "code",
   "execution_count": 12,
   "metadata": {},
   "outputs": [
    {
     "name": "stdout",
     "output_type": "stream",
     "text": [
      "[[1]\n",
      " [2]]\n",
      "[[1]\n",
      " [2]]\n"
     ]
    }
   ],
   "source": [
    "# Свойство 8. Множество X содержит единичный элемент, для которого справедливо следующее равенство:\n",
    "a = np.array([[1, 2]]).T\n",
    "k = 1\n",
    "L = k*a\n",
    "R = a\n",
    "print(L)\n",
    "print(R)"
   ]
  },
  {
   "cell_type": "markdown",
   "metadata": {},
   "source": [
    "______________________\n",
    "Линейная зависимость векторов"
   ]
  },
  {
   "cell_type": "code",
   "execution_count": 14,
   "metadata": {},
   "outputs": [
    {
     "data": {
      "text/plain": [
       "0.0"
      ]
     },
     "execution_count": 14,
     "metadata": {},
     "output_type": "execute_result"
    }
   ],
   "source": [
    "# Рассмотрим очень важную тему, которая имеет огромное практическое значение -\n",
    "# линейная зависимость векторов. Пусть у нас есть система векторов x1,x2,...xn,\n",
    "# как вы помните, каждый вектор представляет собой строку или столбец чисел xi = (xi1,xi2,...,xin).\n",
    "# Составим следующее равенство: a1 x1 + a2 x2+...an xn = 0\n",
    "# Если такое равенство выполняется при a1,a2...,an, не все из которых равны нулю,\n",
    "# то такая система векторов x1,x2,...,xn называется линейно зависимой. Вектор\n",
    "# z , который может быть представлен как сумма произведений векторов на числа,\n",
    "# называется линейной комбинацией векторов: z = a1 x1 + a2 x2 + ... + an xn\n",
    "# Для того, чтобы определить является ли заданная система векторов линейно\n",
    "# зависимой, необходимо разложить вектора на компоненты и составить\n",
    "# соответствующую систему уравнений, если она имеет ненулевое решение, то такая\n",
    "# система векторов линейно зависима.\n",
    "\n",
    "A = np.matrix('1 -1 2; 1 3 2; -2 1 -4')\n",
    "np.linalg.det(A)"
   ]
  },
  {
   "cell_type": "code",
   "execution_count": 15,
   "metadata": {},
   "outputs": [
    {
     "data": {
      "text/plain": [
       "2"
      ]
     },
     "execution_count": 15,
     "metadata": {},
     "output_type": "execute_result"
    }
   ],
   "source": [
    "np.linalg.matrix_rank(A)"
   ]
  },
  {
   "cell_type": "markdown",
   "metadata": {},
   "source": [
    "________________________\n",
    "Базис системы векторов"
   ]
  },
  {
   "cell_type": "code",
   "execution_count": null,
   "metadata": {},
   "outputs": [],
   "source": [
    "# У системы векторов можно выделить максимальную линейно независимую\n",
    "# подсистему, которая характеризуется тем, что если в нее добавить еще один вектор\n",
    "# (из данной системы), то она станет линейно зависимой.\n",
    "# При этом, добавление к любой из данных подсистем вектора из заданной системы\n",
    "# приведет к тому, что полученная система будет линейно зависимой.\n",
    "\n",
    "# Для заданной конечной линейной системы векторов базисом называется любая ее\n",
    "# максимальная линейно независимая подсистема, а число векторов в базисе\n",
    "# называется рангом системы векторов. Если вы, по заданным векторам, построите\n",
    "# матрицу, то ее ранг будет равен рангу базиса исходной системы векторов. Базис\n",
    "# конечной линейной системы - это такой набор векторов, через который может быть\n",
    "# выражен любой вектор системы. Другими словами, любой вектор из линейной\n",
    "# системы является линейной комбинацией векторов базиса.\n",
    "\n",
    "# Для линейного пространства векторов, так же как и для системы, существует понятие\n",
    "# базиса. Базис линейного пространства - это упорядоченная независимая система\n",
    "# векторов, через которую может быть выражен любой вектор этого пространства.\n",
    "# Количество векторов в базисе называется размерностью пространства. Число\n",
    "# pазличных базисов линейного пространства бесконечно. Когда мы говорим, что\n",
    "# пространство трехмерно - это значит, что его базис состоит из трех векторов, и\n",
    "# любая точка (вектор) пространства может быть определена через вектора базиса.\n",
    "\n",
    "# Как было отмечено ранее, количество базисов линейного пространства бесконечно,\n",
    "# это значит, что помимо естественного базиса существуют еще и другие. Все базисы\n",
    "# линейного пространства связаны между собой. Мы можем переходить от одного\n",
    "# базиса к другому при необходимости. Разберем этот вопрос более подробно."
   ]
  },
  {
   "cell_type": "markdown",
   "metadata": {},
   "source": [
    "______________________\n",
    "Линейные операторы"
   ]
  },
  {
   "cell_type": "code",
   "execution_count": 16,
   "metadata": {},
   "outputs": [
    {
     "name": "stdout",
     "output_type": "stream",
     "text": [
      "[5 2]\n"
     ]
    }
   ],
   "source": [
    "# Для более интуитивного понимания данной темы, операторы, или как их еще\n",
    "# называют отображения, можно воспринимать как функции особого вида. Оператор\n",
    "# ставит в соответствие вектору x из линейного пространства X некоторый вектор y из\n",
    "# линейного пространства Y. \n",
    "f = lambda x: np.dot(np.array([[1, 2], [0, 1]]), x.T)\n",
    "x = np.array([1, 2])\n",
    "x_ = f(x)\n",
    "print(x_)"
   ]
  },
  {
   "cell_type": "markdown",
   "metadata": {},
   "source": [
    "_____________________\n",
    "Отражение вектора в себя"
   ]
  },
  {
   "cell_type": "code",
   "execution_count": 17,
   "metadata": {},
   "outputs": [
    {
     "name": "stdout",
     "output_type": "stream",
     "text": [
      "[[1 0]\n",
      " [0 1]]\n"
     ]
    }
   ],
   "source": [
    "x = np.array([2,1])\n",
    "A = np.array([[1,0],[0,1]])\n",
    "print(A)"
   ]
  },
  {
   "cell_type": "code",
   "execution_count": 18,
   "metadata": {},
   "outputs": [
    {
     "data": {
      "text/plain": [
       "array([2, 1])"
      ]
     },
     "execution_count": 18,
     "metadata": {},
     "output_type": "execute_result"
    }
   ],
   "source": [
    "# Создадим функцию f, которая будет реализовывать линейное отражение. Эту функцию будем использовать в следующих примерах:\n",
    "f = lambda A, x: np.dot(A, x.T)\n",
    "# Выполним линейное преобразование:\n",
    "f(A, x)"
   ]
  },
  {
   "cell_type": "markdown",
   "metadata": {},
   "source": [
    "_____________________\n",
    "Масштабирование"
   ]
  },
  {
   "cell_type": "code",
   "execution_count": 24,
   "metadata": {},
   "outputs": [
    {
     "data": {
      "text/plain": [
       "array([4, 2])"
      ]
     },
     "execution_count": 24,
     "metadata": {},
     "output_type": "execute_result"
    }
   ],
   "source": [
    "x = np.array([2, 1])\n",
    "A_m1 = np.array([[2, 0], [0, 2]])\n",
    "f(A_m1, x)"
   ]
  },
  {
   "cell_type": "code",
   "execution_count": 25,
   "metadata": {},
   "outputs": [
    {
     "data": {
      "text/plain": [
       "array([1., 3.])"
      ]
     },
     "execution_count": 25,
     "metadata": {},
     "output_type": "execute_result"
    }
   ],
   "source": [
    "A_m2 = np.array([[0.5, 0], [0, 3]])\n",
    "f(A_m2, x)"
   ]
  },
  {
   "cell_type": "markdown",
   "metadata": {},
   "source": [
    "____________________\n",
    "Отражение"
   ]
  },
  {
   "cell_type": "code",
   "execution_count": 26,
   "metadata": {},
   "outputs": [],
   "source": [
    "# Отражение относительно той или иной оси является востребованной операцией в\n",
    "# прикладных задачах. Рассмотрим горизонтальное (относительно оси ординат) и\n",
    "# вертикальное (относительно оси абсцисс) отражение.\n",
    "\n"
   ]
  },
  {
   "cell_type": "markdown",
   "metadata": {},
   "source": [
    "Горизонтальное отражение"
   ]
  },
  {
   "cell_type": "code",
   "execution_count": 27,
   "metadata": {},
   "outputs": [
    {
     "data": {
      "text/plain": [
       "array([-2,  1])"
      ]
     },
     "execution_count": 27,
     "metadata": {},
     "output_type": "execute_result"
    }
   ],
   "source": [
    "z = np.array([2, 1])\n",
    "A_hor = np.array([[-1, 0], [0, 1]])\n",
    "f(A_hor, z)"
   ]
  },
  {
   "cell_type": "markdown",
   "metadata": {},
   "source": [
    "Вертикальное отражение"
   ]
  },
  {
   "cell_type": "code",
   "execution_count": 28,
   "metadata": {},
   "outputs": [
    {
     "data": {
      "text/plain": [
       "array([ 2, -1])"
      ]
     },
     "execution_count": 28,
     "metadata": {},
     "output_type": "execute_result"
    }
   ],
   "source": [
    "z = np.array([2, 1])\n",
    "A_vert = np.array([[1, 0], [0, -1]])\n",
    "f(A_vert, z)"
   ]
  },
  {
   "cell_type": "markdown",
   "metadata": {},
   "source": [
    "__________________\n",
    "Поворот"
   ]
  },
  {
   "cell_type": "code",
   "execution_count": 29,
   "metadata": {},
   "outputs": [],
   "source": [
    "# Матрицы операторов, выполняющих поворот на заданный угол, имеют более\n",
    "# интересное наполнение. Рассмотрим два линейных оператора: первый будет\n",
    "# осуществлять поворот по часовой стрелке, второй - против."
   ]
  },
  {
   "cell_type": "markdown",
   "metadata": {},
   "source": [
    "По часовой стрелке"
   ]
  },
  {
   "cell_type": "code",
   "execution_count": 30,
   "metadata": {},
   "outputs": [
    {
     "data": {
      "text/plain": [
       "array([ 2.12132034, -0.70710678])"
      ]
     },
     "execution_count": 30,
     "metadata": {},
     "output_type": "execute_result"
    }
   ],
   "source": [
    "import math\n",
    "z = np.array([2, 1])\n",
    "A_rot_cl = np.array([[math.cos(math.pi/4), math.sin(math.pi/4)],[(-1)*math.sin(math.pi/4), math.cos(math.pi/4)]])\n",
    "f(A_rot_cl, z)"
   ]
  },
  {
   "cell_type": "markdown",
   "metadata": {},
   "source": [
    "Против часовой стрелке"
   ]
  },
  {
   "cell_type": "code",
   "execution_count": 31,
   "metadata": {},
   "outputs": [
    {
     "data": {
      "text/plain": [
       "array([0.1339746 , 2.23205081])"
      ]
     },
     "execution_count": 31,
     "metadata": {},
     "output_type": "execute_result"
    }
   ],
   "source": [
    "import math\n",
    "z = np.array([2, 1])\n",
    "A_rot_not_cl = np.array([[math.cos(math.pi/3), (-1)*math.sin(math.pi/3)],[math.sin(math.pi/3), math.cos(math.pi/3)]])\n",
    "f(A_rot_not_cl, z)"
   ]
  },
  {
   "cell_type": "markdown",
   "metadata": {},
   "source": [
    "_________________\n",
    "Перемещение по осям"
   ]
  },
  {
   "cell_type": "code",
   "execution_count": 32,
   "metadata": {},
   "outputs": [
    {
     "data": {
      "text/plain": [
       "array([3, 3, 1])"
      ]
     },
     "execution_count": 32,
     "metadata": {},
     "output_type": "execute_result"
    }
   ],
   "source": [
    "z = np.array([2,1,1]).T\n",
    "A_mov = np.array([[1, 0, 1], [0, 1, 2], [0, 0, 1]])\n",
    "f(A_mov, z)"
   ]
  },
  {
   "cell_type": "markdown",
   "metadata": {},
   "source": [
    "___\n",
    "Эквивалентные преобразования применительно к СЛАУ"
   ]
  },
  {
   "cell_type": "code",
   "execution_count": 33,
   "metadata": {},
   "outputs": [
    {
     "name": "stdout",
     "output_type": "stream",
     "text": [
      "[[ 3 -1  2 -4]\n",
      " [ 1  4 -1 10]\n",
      " [ 2  3  1  8]]\n",
      "[[0 0 1]\n",
      " [0 1 0]\n",
      " [1 0 0]]\n",
      "[[ 1.   0.   0. ]\n",
      " [ 0.5 -1.   0. ]\n",
      " [ 1.5  0.  -1. ]]\n",
      "[[ 1.   0.   0. ]\n",
      " [ 0.   1.   0. ]\n",
      " [ 0.  -2.2 -1. ]]\n"
     ]
    },
    {
     "data": {
      "text/plain": [
       "array([[ 2. ,  3. ,  1. ,  8. ],\n",
       "       [ 0. , -2.5,  1.5, -6. ],\n",
       "       [ 0. ,  0. , -2.8, -2.8]])"
      ]
     },
     "execution_count": 33,
     "metadata": {},
     "output_type": "execute_result"
    }
   ],
   "source": [
    "# В разделе 2.3 мы разбирали метод Гаусса для решения систем линейных\n",
    "# алгебраических уравнений. Наша цель состояла приведении исходной системы\n",
    "# уравнений к треугольному виду. Суть этой работы заключалась в том, что с\n",
    "# исходной системой мы последовательно производили ряд преобразований, при этом\n",
    "# система до и после этих преобразований имела одно и тоже решение. Такие\n",
    "# преобразования называются эквивалентными.\n",
    "\n",
    "# Различают три вида эквивалентных преобразований:\n",
    "# 1. Перестановка двух уравнений в системе.\n",
    "# 2. Умножение одного из уравнений системы на число, не равное нулю.\n",
    "# 3. Прибавление одного уравнения к другому, умноженному на число.\n",
    "# Применение эквивалентных преобразований удобно производить в матричном виде.\n",
    "\n",
    "# 1. Перестановка двух уравнений в системе.\n",
    "# Данному преобразованию соответствует перестановка строк в расширенной матрице\n",
    "# системы. Для того, чтобы произвести перестановку строк достаточно заданную\n",
    "# матрицу размера (m, n) умножить на единичную матрицу размера (n, n), в которой\n",
    "# будут переставлены соответствующие строки.\n",
    "\n",
    "\n",
    "# 2. Умножение одного из уравнений системы на число, не равное нулю.\n",
    "# Для выполнения такого преобразования необходимо расширенную матрицу системы\n",
    "# умножить слева на матрицу, которая используется для масштабирования вектора по\n",
    "# заданному направлению:\n",
    "\n",
    "# 3. Прибавление одного уравнения к другому, умноженному на число.\n",
    "# Такое эквивалентное преобразование производится путем умножения\n",
    "# соответствующей расширенной матрицы системы на матрицу следующего вида:\n",
    "\n",
    "A = np.array([[3, -1, 2, -4], [1, 4, -1, 10], [2, 3, 1, 8]])\n",
    "print(A)\n",
    "# Теперь построим матрицы для выполнения эквивалентных преобразований:\n",
    "R1 = np.array([[0, 0, 1], [0, 1, 0], [1, 0, 0]])\n",
    "print(R1)\n",
    "R2 = np.array([[1, 0, 0], [0.5, -1, 0], [1.5, 0, -1]])\n",
    "print(R2)\n",
    "R3 = np.array([[1, 0, 0], [0, 1, 0], [0, -2.2, -1]])\n",
    "print(R3)\n",
    "# Выполним необходимые матричные умножения:\n",
    "R3.dot(R2.dot(R1.dot(A)))"
   ]
  },
  {
   "cell_type": "code",
   "execution_count": 38,
   "metadata": {},
   "outputs": [
    {
     "data": {
      "text/plain": [
       "matrix([[ 0. ,  0. ,  3. ],\n",
       "        [ 0. , -2. , -0.5],\n",
       "        [ 1. ,  8.4, -2.4]])"
      ]
     },
     "execution_count": 38,
     "metadata": {},
     "output_type": "execute_result"
    }
   ],
   "source": [
    "# Если данный вопрос перевести на язык линейных операторов, то можно сделать\n",
    "# следующее интересное наблюдение: задав умножение на соответствующую матрицу\n",
    "# как линейное отображение, готовый результат мы можем получить через композицию\n",
    "# линейных операторов — то есть последовательное их применение к результату\n",
    "# полученному на предыдущем этапе. Рассмотрим это на примере. Создадим три\n",
    "# линейных оператора:\n",
    "def f1(x):\n",
    "    R1 = np.array([[0, 0, 1], [0, 1, 0], [1, 0, 0]])\n",
    "    return R1.dot(x)\n",
    "def f2(x):\n",
    "    R2 = np.array([[1, 0, 0], [0.5, -1, 0], [1.5, 0, -1]])\n",
    "    return R2.dot(x)\n",
    "def f3(x):\n",
    "    R3 = np.array([[1, 0, 0], [0, 1, 0], [0, -2.2, -1]])\n",
    "    return R3.dot(x)\n",
    "f3(f2(f1(A)))"
   ]
  },
  {
   "cell_type": "markdown",
   "metadata": {},
   "source": [
    "____________________\n",
    "Собственные векторы линейного оператора\n",
    "_____________________\n",
    "Характеристический полином матрицы"
   ]
  },
  {
   "cell_type": "code",
   "execution_count": 37,
   "metadata": {},
   "outputs": [
    {
     "name": "stdout",
     "output_type": "stream",
     "text": [
      "[[1 4 1]\n",
      " [0 2 2]\n",
      " [0 0 3]]\n"
     ]
    },
    {
     "data": {
      "text/plain": [
       "array([1., 2., 3.])"
      ]
     },
     "execution_count": 37,
     "metadata": {},
     "output_type": "execute_result"
    }
   ],
   "source": [
    "# Если из матрицы A вычесть единичную матрицу E, умноженную на некоторую\n",
    "# переменную Л, то получим матрицу, которая называется характеристической\n",
    "# матрицей матрицы A:\n",
    "\n",
    "# Определитель такой матрицы будет полиномом n-ой степени от Л и может рассматриваться как функция:\n",
    "A = np.matrix(\"1 4 1; 0 2 2 ; 0 0 3\")\n",
    "print(A)\n",
    "w, v = np.linalg.eig(A)\n",
    "w"
   ]
  },
  {
   "cell_type": "code",
   "execution_count": 40,
   "metadata": {},
   "outputs": [
    {
     "name": "stdout",
     "output_type": "stream",
     "text": [
      "[[1 4 1]\n",
      " [0 2 2]\n",
      " [0 0 3]]\n"
     ]
    },
    {
     "data": {
      "text/plain": [
       "array([1., 2., 3.])"
      ]
     },
     "execution_count": 40,
     "metadata": {},
     "output_type": "execute_result"
    }
   ],
   "source": [
    "A = np.array([[1,4,1],[0,2,2],[0,0,3]])\n",
    "print(A)\n",
    "w, v = np.linalg.eig(A)\n",
    "w"
   ]
  },
  {
   "cell_type": "markdown",
   "metadata": {},
   "source": [
    "Собственные векторы и собственные значения линейного оператора"
   ]
  },
  {
   "cell_type": "code",
   "execution_count": 41,
   "metadata": {},
   "outputs": [],
   "source": [
    "# В самом начале раздела 4.4 мы ввели понятие линейного оператора. Если линейный\n",
    "# оператор переводит некоторый вектор x в вектор Лx, то такой вектор называется\n",
    "# собственным вектором оператора f: f(x)=Лx\n",
    "# При этом Лx называется собственным значением линейного оператора f.\n",
    "\n",
    "# Полученный вектор является коллинеарным, то есть он равен исходному вектору, умноженному на какое-то число.\n",
    "\n",
    "# Собственными значениями линейного оператора могут быть только корни\n",
    "# характеристического уравнения матрицы этого линейного оператора. При этом из\n",
    "# корней следует выбирать только те, которые принадлежат полю над которым\n",
    "# построено линейное пространство. То есть, если у нас элементы вектора - это\n",
    "# действительные числа, то из всех собственных значений нужно выбрать те, которые\n",
    "# являются действительными числами, а если есть комплексные, что возможно при\n",
    "# решении уравнения, то их следует отбросить.\n",
    "\n"
   ]
  },
  {
   "cell_type": "markdown",
   "metadata": {},
   "source": [
    "______________________________\n",
    "Глава 5. Разложения матриц\n",
    "______________________________\n",
    "LU-разложение матрицы"
   ]
  },
  {
   "cell_type": "code",
   "execution_count": 5,
   "metadata": {},
   "outputs": [
    {
     "data": {
      "text/plain": [
       "array([[  4,   1,   3],\n",
       "       [  8,   1,   8],\n",
       "       [-12,  -4,  -6]])"
      ]
     },
     "execution_count": 5,
     "metadata": {},
     "output_type": "execute_result"
    }
   ],
   "source": [
    "# LU -разложение используется для представления матрицы в виде произведения двух\n",
    "# матриц: L - нижней треугольной матрицы и U - верхней треугольной матрицы: A = LU\n",
    "\n",
    "# У матрицы L все элементы главной диагонали равны единице. Матрицу A можно\n",
    "# представить в виде LU -разложения, если все главные диагональные миноры не\n",
    "# вырождены (отличны от нуля).\n",
    "\n",
    "# Разложение такого типа используется для:\n",
    "# • решения систем линейных уравнений;\n",
    "# • вычисления обратной матрицы;\n",
    "# • вычисления определителя.\n",
    "\n",
    "A = np.array([[4, 1, 3], [8, 1, 8], [-12, -4, -6]])\n",
    "A "
   ]
  },
  {
   "cell_type": "code",
   "execution_count": 7,
   "metadata": {},
   "outputs": [
    {
     "data": {
      "text/plain": [
       "array([[ 4,  1,  3],\n",
       "       [ 0,  1, -2],\n",
       "       [ 0,  0,  1]])"
      ]
     },
     "execution_count": 7,
     "metadata": {},
     "output_type": "execute_result"
    }
   ],
   "source": [
    "R1=np.array([[1, 0, 0],[2, -1, 0],[3, 0, 1]])\n",
    "R2=np.array([[1, 0, 0],[0, 1, 0],[0, 1, 1]])\n",
    "U = R2.dot(R1.dot(A))\n",
    "U"
   ]
  },
  {
   "cell_type": "code",
   "execution_count": 8,
   "metadata": {},
   "outputs": [
    {
     "data": {
      "text/plain": [
       "array([[ 1,  0,  0],\n",
       "       [ 2, -1,  0],\n",
       "       [ 5, -1,  1]])"
      ]
     },
     "execution_count": 8,
     "metadata": {},
     "output_type": "execute_result"
    }
   ],
   "source": [
    "T = R2.dot(R1)\n",
    "T "
   ]
  },
  {
   "cell_type": "code",
   "execution_count": 9,
   "metadata": {},
   "outputs": [
    {
     "data": {
      "text/plain": [
       "array([[ 1.,  0.,  0.],\n",
       "       [ 2., -1., -0.],\n",
       "       [-3., -1.,  1.]])"
      ]
     },
     "execution_count": 9,
     "metadata": {},
     "output_type": "execute_result"
    }
   ],
   "source": [
    "L = np.linalg.inv(T)\n",
    "L"
   ]
  },
  {
   "cell_type": "code",
   "execution_count": 10,
   "metadata": {},
   "outputs": [
    {
     "data": {
      "text/plain": [
       "array([[  4.,   1.,   3.],\n",
       "       [  8.,   1.,   8.],\n",
       "       [-12.,  -4.,  -6.]])"
      ]
     },
     "execution_count": 10,
     "metadata": {},
     "output_type": "execute_result"
    }
   ],
   "source": [
    "L.dot(U)"
   ]
  },
  {
   "cell_type": "code",
   "execution_count": 12,
   "metadata": {},
   "outputs": [
    {
     "name": "stdout",
     "output_type": "stream",
     "text": [
      "[[0. 0. 1.]\n",
      " [0. 1. 0.]\n",
      " [1. 0. 0.]]\n",
      "[[ 1.          0.          0.        ]\n",
      " [-0.66666667  1.          0.        ]\n",
      " [-0.33333333  0.2         1.        ]]\n",
      "[[-12.          -4.          -6.        ]\n",
      " [  0.          -1.66666667   4.        ]\n",
      " [  0.           0.           0.2       ]]\n",
      "[[  4   1   3]\n",
      " [  8   1   8]\n",
      " [-12  -4  -6]]\n"
     ]
    }
   ],
   "source": [
    "# LU -разложение можно выполнить, используя специальную функцию из библиотеки\n",
    "# scipy, эту библиотеку необходимо предварительно установить и импортировать. За\n",
    "# данный тип разложения отвечает scipy.linalg.lu. В результате будут получены\n",
    "# матрицы P,L и U. Смысл матриц L и U остается тот же, матрица P - это простая\n",
    "# перестановочная матрица.\n",
    "import scipy.linalg as la\n",
    "P, L, U = la.lu(A)\n",
    "print(P)\n",
    "print(L)\n",
    "print(U)\n",
    "print(A)"
   ]
  },
  {
   "cell_type": "code",
   "execution_count": 13,
   "metadata": {},
   "outputs": [
    {
     "data": {
      "text/plain": [
       "array([[  4.,   1.,   3.],\n",
       "       [  8.,   1.,   8.],\n",
       "       [-12.,  -4.,  -6.]])"
      ]
     },
     "execution_count": 13,
     "metadata": {},
     "output_type": "execute_result"
    }
   ],
   "source": [
    "P.dot(L.dot(U))"
   ]
  },
  {
   "cell_type": "markdown",
   "metadata": {},
   "source": [
    "_________________________\n",
    "QR-разложение матрицы"
   ]
  },
  {
   "cell_type": "code",
   "execution_count": 14,
   "metadata": {},
   "outputs": [
    {
     "data": {
      "text/plain": [
       "matrix([[2, 1, 3],\n",
       "        [0, 1, 4],\n",
       "        [1, 3, 4]])"
      ]
     },
     "execution_count": 14,
     "metadata": {},
     "output_type": "execute_result"
    }
   ],
   "source": [
    "# По определению QR разложение матрицы является представлением матрицы в виде\n",
    "# произведения ортогональной матрицы Q и верхней треугольной матрицы R. С\n",
    "# понятием верней треугольной матрицы мы уже встречались ранее. Ортогональная\n",
    "# матрица - новое для нас понятие, разберем его более подробно. Ортогональная\n",
    "# матрица - это такая матрица, у которой ее транспонированная матрица равна\n",
    "# обратной матрице, сумма квадратов всех элементов строки или столбца равна\n",
    "# единице, а попарное произведение элементов двух строк или столбцов равно нулю.\n",
    "\n",
    "# Существует несколько способов получения QR разложения матрицы. Рассмотрим\n",
    "# один из них, суть которого заключается в ортогонализации и нормировании столбцов\n",
    "# исходной матрицы.\n",
    "\n",
    "# Рассмотрим быстрый способ получения QR-разложения матрицы, для этого\n",
    "# воспользуемся функцией np.linalg.qr() из библиотеки Numpy. В качестве аргумента в\n",
    "# эту функцию передается исходная матрица, результатом ее работы являются две матрицы и :\n",
    "A = np.matrix(\"2 1 3; 0 1 4; 1 3 4\")\n",
    "A\n"
   ]
  },
  {
   "cell_type": "code",
   "execution_count": 17,
   "metadata": {},
   "outputs": [
    {
     "data": {
      "text/plain": [
       "matrix([[-0.89442719,  0.40824829, -0.18257419],\n",
       "        [-0.        , -0.40824829, -0.91287093],\n",
       "        [-0.4472136 , -0.81649658,  0.36514837]])"
      ]
     },
     "execution_count": 17,
     "metadata": {},
     "output_type": "execute_result"
    }
   ],
   "source": [
    "q, r = np.linalg.qr(A)\n",
    "q"
   ]
  },
  {
   "cell_type": "code",
   "execution_count": 16,
   "metadata": {},
   "outputs": [
    {
     "data": {
      "text/plain": [
       "matrix([[-2.23606798, -2.23606798, -4.47213595],\n",
       "        [ 0.        , -2.44948974, -3.67423461],\n",
       "        [ 0.        ,  0.        , -2.73861279]])"
      ]
     },
     "execution_count": 16,
     "metadata": {},
     "output_type": "execute_result"
    }
   ],
   "source": [
    "r"
   ]
  },
  {
   "cell_type": "code",
   "execution_count": 18,
   "metadata": {},
   "outputs": [
    {
     "data": {
      "text/plain": [
       "matrix([[2., 1., 3.],\n",
       "        [0., 1., 4.],\n",
       "        [1., 3., 4.]])"
      ]
     },
     "execution_count": 18,
     "metadata": {},
     "output_type": "execute_result"
    }
   ],
   "source": [
    "q.dot(r)"
   ]
  },
  {
   "cell_type": "markdown",
   "metadata": {},
   "source": [
    "______________________\n",
    "Сингулярное разложение матрицы"
   ]
  },
  {
   "cell_type": "code",
   "execution_count": 20,
   "metadata": {},
   "outputs": [
    {
     "data": {
      "text/plain": [
       "matrix([[1, 0, 1],\n",
       "        [0, 1, 0],\n",
       "        [1, 0, 1]])"
      ]
     },
     "execution_count": 20,
     "metadata": {},
     "output_type": "execute_result"
    }
   ],
   "source": [
    "A = np.matrix(\"1 0 1; 0 1 0; 1 0 1\")\n",
    "A"
   ]
  },
  {
   "cell_type": "code",
   "execution_count": 24,
   "metadata": {},
   "outputs": [
    {
     "data": {
      "text/plain": [
       "matrix([[-7.07106781e-01, -1.57009246e-16, -7.07106781e-01],\n",
       "        [ 0.00000000e+00,  1.00000000e+00,  0.00000000e+00],\n",
       "        [-7.07106781e-01,  1.57009246e-16,  7.07106781e-01]])"
      ]
     },
     "execution_count": 24,
     "metadata": {},
     "output_type": "execute_result"
    }
   ],
   "source": [
    "u, s, v = np.linalg.svd(A)\n",
    "u"
   ]
  },
  {
   "cell_type": "code",
   "execution_count": 26,
   "metadata": {},
   "outputs": [
    {
     "data": {
      "text/plain": [
       "array([2.00000000e+00, 1.00000000e+00, 3.35470445e-17])"
      ]
     },
     "execution_count": 26,
     "metadata": {},
     "output_type": "execute_result"
    }
   ],
   "source": [
    "s"
   ]
  },
  {
   "cell_type": "code",
   "execution_count": 25,
   "metadata": {},
   "outputs": [
    {
     "data": {
      "text/plain": [
       "matrix([[-0.70710678,  0.        , -0.70710678],\n",
       "        [ 0.        ,  1.        ,  0.        ],\n",
       "        [ 0.70710678,  0.        , -0.70710678]])"
      ]
     },
     "execution_count": 25,
     "metadata": {},
     "output_type": "execute_result"
    }
   ],
   "source": [
    "v"
   ]
  },
  {
   "cell_type": "markdown",
   "metadata": {},
   "source": [
    "_________________________\n",
    "Комплексные числа\n",
    "__________________________\n",
    "Задание комплексных чисел"
   ]
  },
  {
   "cell_type": "markdown",
   "metadata": {},
   "source": [
    "Алгебраическая форма задания комплексного числа\n"
   ]
  },
  {
   "cell_type": "code",
   "execution_count": 27,
   "metadata": {},
   "outputs": [],
   "source": [
    "# В алгебраической форме комплексное число записывается так: z = a+ib\n",
    "# где a - действительная часть;\n",
    "# b - мнимая часть.\n",
    "# i называют мнимой единицей, квадрат которой равен единице i**2 = -1 ."
   ]
  },
  {
   "cell_type": "markdown",
   "metadata": {},
   "source": [
    "______________________\n",
    "Геометрическая интерпретация комплексного числа"
   ]
  },
  {
   "cell_type": "code",
   "execution_count": 28,
   "metadata": {},
   "outputs": [],
   "source": [
    "# Геометрически комплексное число z = a +ib можно рассматривать как точку на\n",
    "# двумерной плоскости, на которой a и b являются координатами. На комплексной\n",
    "# плоскости определяют действительную ось, она обозначается Re, и мнимую ось - обозначается Im."
   ]
  },
  {
   "cell_type": "markdown",
   "metadata": {},
   "source": [
    "___________________\n",
    "Модуль и аргумент комплексного числа"
   ]
  },
  {
   "cell_type": "code",
   "execution_count": 29,
   "metadata": {},
   "outputs": [],
   "source": [
    "# Помимо действительной и мнимой части комплексное число может быть определено\n",
    "# с помощью модуля и аргумента. Модуль комплексного числа - это длинна вектора, а\n",
    "# аргумент - угол между вектором и действительной осью."
   ]
  },
  {
   "cell_type": "markdown",
   "metadata": {},
   "source": [
    "_________________\n",
    "Тригонометрическая форма задания комплексного числа"
   ]
  },
  {
   "cell_type": "markdown",
   "metadata": {},
   "source": [
    "_____________________\n",
    "Задание комплексного числа в Python"
   ]
  },
  {
   "cell_type": "code",
   "execution_count": 30,
   "metadata": {},
   "outputs": [
    {
     "name": "stdout",
     "output_type": "stream",
     "text": [
      "(1, 2)\n"
     ]
    }
   ],
   "source": [
    "# Комплексные числа могут быть заданы парой (a,b), что сразу наталкивает на мысль\n",
    "# использования кортежей Python для работы с ними:\n",
    "z = (1,2)\n",
    "print(z)"
   ]
  },
  {
   "cell_type": "code",
   "execution_count": 31,
   "metadata": {},
   "outputs": [
    {
     "name": "stdout",
     "output_type": "stream",
     "text": [
      "(1+2j)\n"
     ]
    }
   ],
   "source": [
    "# Но в этом случае придется самостоятельно написать функции для выполнения\n",
    "# арифметических операций с комплексными числами. Мы этого делать не будем,\n",
    "# вместо этого воспользуемся типом complex:\n",
    "z = complex(1,2)\n",
    "print(z)"
   ]
  },
  {
   "cell_type": "code",
   "execution_count": 32,
   "metadata": {},
   "outputs": [
    {
     "name": "stdout",
     "output_type": "stream",
     "text": [
      "(1+3j)\n"
     ]
    }
   ],
   "source": [
    "z1 = complex('1+3j')\n",
    "print(z1)"
   ]
  },
  {
   "cell_type": "code",
   "execution_count": 34,
   "metadata": {},
   "outputs": [
    {
     "data": {
      "text/plain": [
       "1.0"
      ]
     },
     "execution_count": 34,
     "metadata": {},
     "output_type": "execute_result"
    }
   ],
   "source": [
    "# Как вы можете видеть, при распечатке такого числа оно представляется в знакомой\n",
    "# нам алгебраической форме. Действительная и мнимая части числа могут быть\n",
    "# получены с помощью специальных атрибутов:\n",
    "z.real"
   ]
  },
  {
   "cell_type": "code",
   "execution_count": 35,
   "metadata": {},
   "outputs": [
    {
     "data": {
      "text/plain": [
       "2.0"
      ]
     },
     "execution_count": 35,
     "metadata": {},
     "output_type": "execute_result"
    }
   ],
   "source": [
    "z.imag"
   ]
  },
  {
   "cell_type": "code",
   "execution_count": 36,
   "metadata": {},
   "outputs": [],
   "source": [
    "# В типе complex нет методов для вычисления модуля и аргумента, для этого можно\n",
    "# воспользоваться функциями из модуля cmath. Импортируем этот модуль:\n",
    "import cmath"
   ]
  },
  {
   "cell_type": "code",
   "execution_count": 37,
   "metadata": {},
   "outputs": [
    {
     "name": "stdout",
     "output_type": "stream",
     "text": [
      "2.23606797749979\n",
      "1.1071487177940904\n"
     ]
    }
   ],
   "source": [
    "# Модуль r и аргумент a созданного выше числа z определяется так:\n",
    "r = cmath.polar(z)[0]\n",
    "print(r)\n",
    "f = cmath.phase(z)\n",
    "print(f)"
   ]
  },
  {
   "cell_type": "markdown",
   "metadata": {},
   "source": [
    "_________________\n",
    "Комплексно сопряженное число"
   ]
  },
  {
   "cell_type": "code",
   "execution_count": 38,
   "metadata": {},
   "outputs": [
    {
     "name": "stdout",
     "output_type": "stream",
     "text": [
      "(1+2j)\n",
      "(1-2j)\n"
     ]
    }
   ],
   "source": [
    "# Числом, сопряженным с комплексным z =a+ib называют z=a-ib .\n",
    "z = complex(1, 2)\n",
    "print(z)\n",
    "c_z = z.conjugate()\n",
    "print(c_z)"
   ]
  },
  {
   "cell_type": "markdown",
   "metadata": {},
   "source": [
    "___________________________\n",
    "Операции над комплексными числами\n",
    "_____________________________\n",
    "Сложение комплексных чисел"
   ]
  },
  {
   "cell_type": "code",
   "execution_count": 39,
   "metadata": {},
   "outputs": [
    {
     "data": {
      "text/plain": [
       "(4+6j)"
      ]
     },
     "execution_count": 39,
     "metadata": {},
     "output_type": "execute_result"
    }
   ],
   "source": [
    "# При сложении комплексных чисел действительные и мнимые части складываются по отдельности:\n",
    "z = complex('1+2j')\n",
    "x = complex('3+4j')\n",
    "z + x"
   ]
  },
  {
   "cell_type": "markdown",
   "metadata": {},
   "source": [
    "__________________\n",
    "Вычитание комплексных чисел"
   ]
  },
  {
   "cell_type": "code",
   "execution_count": 40,
   "metadata": {},
   "outputs": [
    {
     "data": {
      "text/plain": [
       "(3-1j)"
      ]
     },
     "execution_count": 40,
     "metadata": {},
     "output_type": "execute_result"
    }
   ],
   "source": [
    "# При получении разности комплексных чисел вычитание действительных и мнимых частей производится по отдельности\n",
    "z = complex('5+3j')\n",
    "x = complex('2+4j')\n",
    "z - x"
   ]
  },
  {
   "cell_type": "markdown",
   "metadata": {},
   "source": [
    "__________________________\n",
    "Умножение комплексных чисел"
   ]
  },
  {
   "cell_type": "code",
   "execution_count": 41,
   "metadata": {},
   "outputs": [
    {
     "data": {
      "text/plain": [
       "(-2+26j)"
      ]
     },
     "execution_count": 41,
     "metadata": {},
     "output_type": "execute_result"
    }
   ],
   "source": [
    "# Рассмотрим умножение комплексных чисел. Оно выполняется по алгебраическим правилам умножения сумм в скобках\n",
    "z = complex('5+3j')\n",
    "x = complex('2+4j')\n",
    "z * x"
   ]
  },
  {
   "cell_type": "markdown",
   "metadata": {},
   "source": [
    "_________________________\n",
    "Деление комплексных чисел"
   ]
  },
  {
   "cell_type": "code",
   "execution_count": 42,
   "metadata": {},
   "outputs": [
    {
     "data": {
      "text/plain": [
       "(1.1-0.7j)"
      ]
     },
     "execution_count": 42,
     "metadata": {},
     "output_type": "execute_result"
    }
   ],
   "source": [
    "# Для вычисления частного от деления двух комплексных чисел используется вот такая формула:\n",
    "z = complex('5+3j')\n",
    "x = complex('2+4j')\n",
    "z / x"
   ]
  },
  {
   "cell_type": "markdown",
   "metadata": {},
   "source": [
    "_______________________\n",
    "Возведение в степень комплексного числа"
   ]
  },
  {
   "cell_type": "code",
   "execution_count": 43,
   "metadata": {},
   "outputs": [
    {
     "data": {
      "text/plain": [
       "(-3+4j)"
      ]
     },
     "execution_count": 43,
     "metadata": {},
     "output_type": "execute_result"
    }
   ],
   "source": [
    "# При возведении в степень комплексного числа удобно работать с\n",
    "# тригонометрической формой записи числа, это позволит использовать формулу Муавра:\n",
    "z = complex('1+2j')\n",
    "z**2"
   ]
  },
  {
   "cell_type": "markdown",
   "metadata": {},
   "source": [
    "_______________________________\n",
    "Извлечение корня из комплексного числа"
   ]
  },
  {
   "cell_type": "code",
   "execution_count": 48,
   "metadata": {},
   "outputs": [
    {
     "name": "stdout",
     "output_type": "stream",
     "text": [
      "(2+1j)\n",
      "(-2.0000000000000004-0.9999999999999999j)\n"
     ]
    }
   ],
   "source": [
    "# При извлечении корня из комплексного числа, также удобно представлять его в\n",
    "# тригонометрической форме. Корень n-ой степени из комплексного числа будет равен\n",
    "# n-му количеству корней, вычисляемых по формуле:\n",
    "import math\n",
    "import cmath\n",
    "z = complex('3+4j')\n",
    "r = abs(z)\n",
    "ph = cmath.phase(z)\n",
    "x1 = complex((r**0.5)*math.cos(ph/2), (r**0.5)*math.sin(ph/2))\n",
    "print(x1)\n",
    "x2 = complex((r**0.5)*math.cos((ph+2*cmath.pi)/2),(r**0.5)*math.sin((ph+2*cmath.pi)/2))\n",
    "print(x2)"
   ]
  },
  {
   "cell_type": "code",
   "execution_count": null,
   "metadata": {},
   "outputs": [],
   "source": []
  }
 ],
 "metadata": {
  "kernelspec": {
   "display_name": "Python 3",
   "language": "python",
   "name": "python3"
  },
  "language_info": {
   "codemirror_mode": {
    "name": "ipython",
    "version": 3
   },
   "file_extension": ".py",
   "mimetype": "text/x-python",
   "name": "python",
   "nbconvert_exporter": "python",
   "pygments_lexer": "ipython3",
   "version": "3.8.3"
  }
 },
 "nbformat": 4,
 "nbformat_minor": 4
}
