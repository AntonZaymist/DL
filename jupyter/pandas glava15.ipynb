{
 "cells": [
  {
   "cell_type": "markdown",
   "metadata": {},
   "source": [
    "Анализ исторических котировок акций"
   ]
  },
  {
   "cell_type": "code",
   "execution_count": 1,
   "metadata": {},
   "outputs": [],
   "source": [
    "import numpy as np\n",
    "import pandas as pd\n",
    "import datetime\n",
    "from datetime import datetime, date\n",
    "import matplotlib.pyplot as plt\n",
    "%matplotlib inline\n",
    "pd.set_option('display.notebook_repr_html', False)\n",
    "pd.set_option('display.max_columns', 7)\n",
    "pd.set_option('display.max_rows', 10)\n",
    "pd.set_option('display.width', 60)"
   ]
  },
  {
   "cell_type": "markdown",
   "metadata": {},
   "source": [
    "-Загрузка и изменение формы данных о котировках акций, предоставляемых веб-сервисом Yahoo!Finance"
   ]
  },
  {
   "cell_type": "code",
   "execution_count": 3,
   "metadata": {},
   "outputs": [],
   "source": [
    "# импортируем пакет pandas_datareader\n",
    "import pandas_datareader as pdr\n",
    "# считываем данные яхо по акциям конкретной компании за конкретный период, ticker - это торговый код акции, start u end - стартовая и конечные даты\n",
    "def get_stock_data(ticker, start, end):\n",
    "    # считываем данные\n",
    "    data = pdr.data.DataReader(ticker, 'yahoo', start, end)\n",
    "    # переименовываем этот столбец\n",
    "    data.insert(0,'Ticker', ticker)\n",
    "    return data"
   ]
  },
  {
   "cell_type": "code",
   "execution_count": 4,
   "metadata": {},
   "outputs": [
    {
     "data": {
      "text/plain": [
       "           Ticker       High        Low       Open  \\\n",
       "Date                                                 \n",
       "2012-01-03   MSFT  26.959999  26.389999  26.549999   \n",
       "2012-01-04   MSFT  27.469999  26.780001  26.820000   \n",
       "2012-01-05   MSFT  27.730000  27.290001  27.379999   \n",
       "2012-01-06   MSFT  28.190001  27.530001  27.530001   \n",
       "2012-01-09   MSFT  28.100000  27.719999  28.049999   \n",
       "\n",
       "                Close      Volume  Adj Close  \n",
       "Date                                          \n",
       "2012-01-03  26.770000  64731500.0  22.020796  \n",
       "2012-01-04  27.400000  80516100.0  22.539021  \n",
       "2012-01-05  27.680000  56081400.0  22.769344  \n",
       "2012-01-06  28.110001  99455500.0  23.123066  \n",
       "2012-01-09  27.740000  59706800.0  22.818701  "
      ]
     },
     "execution_count": 4,
     "metadata": {},
     "output_type": "execute_result"
    }
   ],
   "source": [
    "# запрашиваем данные для торгового кода MSFT за трехлетний период\n",
    "start = datetime(2012,1,1)\n",
    "end = datetime(2014,12,31)\n",
    "get_stock_data('MSFT',start,end)[:5]"
   ]
  },
  {
   "cell_type": "code",
   "execution_count": null,
   "metadata": {},
   "outputs": [],
   "source": [
    "# загружаем данные по нескольким торговым кодам акций: задаем список торговых кодов start u end - это стартовая и конечные даты\n",
    "def get_data_for_multiple_stocks(ticker,start,end):\n",
    "    # мы возвращаем словарь \n",
    "    stocks = dict()\n",
    "    # итерируем"
   ]
  }
 ],
 "metadata": {
  "kernelspec": {
   "display_name": "Python 3",
   "language": "python",
   "name": "python3"
  },
  "language_info": {
   "codemirror_mode": {
    "name": "ipython",
    "version": 3
   },
   "file_extension": ".py",
   "mimetype": "text/x-python",
   "name": "python",
   "nbconvert_exporter": "python",
   "pygments_lexer": "ipython3",
   "version": "3.7.3"
  }
 },
 "nbformat": 4,
 "nbformat_minor": 4
}
